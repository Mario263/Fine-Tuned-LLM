{
 "cells": [
  {
   "cell_type": "markdown",
   "metadata": {},
   "source": [
    "# 🧠 Mastering LLM Fine-Tuning with TRL – Supervised Fine-Tuning\n",
    "\n",
    "Welcome! This notebook is part of a tutorial series where you'll learn how to fine-tune Large Language Models (LLMs) using 🤗 TRL.\n",
    "We introduce key concepts, set up the required tools, and use techniques like Supervised Fine-Tuning (SFT) and Group-Relative Policy Optimization (GRPO).\n",
    "\n",
    "## 📋 Prerequisites\n",
    "\n",
    "Before you begin, make sure you have the following:\n",
    "\n",
    "* A working knowledge of Python and PyTorch\n",
    "* A basic understanding of machine learning and deep learning concepts\n",
    "* Access to a GPU accelerator – this notebook is designed to run with **at least 16GB of GPU memory**, such as what is available for free on [Google Colab](https://colab.research.google.com)\n",
    "* The `trl` library installed – this tutorial has been tested with **TRL version 0.17**\n",
    "  If you don’t have `trl` installed yet, you can install it by running the following code block:"
   ]
  },
  {
   "cell_type": "code",
   "execution_count": 1,
   "metadata": {},
   "outputs": [
    {
     "name": "stdout",
     "output_type": "stream",
     "text": [
      "Requirement already satisfied: trl in /fsx/qgallouedec/miniconda3/envs/trl/lib/python3.12/site-packages (0.18.0.dev0)\n",
      "Requirement already satisfied: transformers in /fsx/qgallouedec/miniconda3/envs/trl/lib/python3.12/site-packages (from trl) (4.52.0.dev0)\n",
      "Requirement already satisfied: accelerate in /fsx/qgallouedec/miniconda3/envs/trl/lib/python3.12/site-packages (from trl) (1.4.0)\n",
      "Requirement already satisfied: datasets in /fsx/qgallouedec/miniconda3/envs/trl/lib/python3.12/site-packages (from trl) (3.5.1.dev0)\n",
      "Requirement already satisfied: numpy<3.0.0,>=1.17 in /fsx/qgallouedec/miniconda3/envs/trl/lib/python3.12/site-packages (from accelerate->trl) (1.26.4)\n",
      "Requirement already satisfied: packaging>=20.0 in /fsx/qgallouedec/miniconda3/envs/trl/lib/python3.12/site-packages (from accelerate->trl) (24.2)\n",
      "Requirement already satisfied: psutil in /fsx/qgallouedec/miniconda3/envs/trl/lib/python3.12/site-packages (from accelerate->trl) (7.0.0)\n",
      "Requirement already satisfied: pyyaml in /fsx/qgallouedec/miniconda3/envs/trl/lib/python3.12/site-packages (from accelerate->trl) (6.0.2)\n",
      "Requirement already satisfied: torch>=2.0.0 in /fsx/qgallouedec/miniconda3/envs/trl/lib/python3.12/site-packages (from accelerate->trl) (2.6.0)\n",
      "Requirement already satisfied: huggingface-hub>=0.21.0 in /fsx/qgallouedec/miniconda3/envs/trl/lib/python3.12/site-packages (from accelerate->trl) (0.30.2)\n",
      "Requirement already satisfied: safetensors>=0.4.3 in /fsx/qgallouedec/miniconda3/envs/trl/lib/python3.12/site-packages (from accelerate->trl) (0.5.3)\n",
      "Requirement already satisfied: filelock in /fsx/qgallouedec/miniconda3/envs/trl/lib/python3.12/site-packages (from datasets->trl) (3.18.0)\n",
      "Requirement already satisfied: pyarrow>=15.0.0 in /fsx/qgallouedec/miniconda3/envs/trl/lib/python3.12/site-packages (from datasets->trl) (19.0.1)\n",
      "Requirement already satisfied: dill<0.3.9,>=0.3.0 in /fsx/qgallouedec/miniconda3/envs/trl/lib/python3.12/site-packages (from datasets->trl) (0.3.8)\n",
      "Requirement already satisfied: pandas in /fsx/qgallouedec/miniconda3/envs/trl/lib/python3.12/site-packages (from datasets->trl) (2.2.3)\n",
      "Requirement already satisfied: requests>=2.32.2 in /fsx/qgallouedec/miniconda3/envs/trl/lib/python3.12/site-packages (from datasets->trl) (2.32.3)\n",
      "Requirement already satisfied: tqdm>=4.66.3 in /fsx/qgallouedec/miniconda3/envs/trl/lib/python3.12/site-packages (from datasets->trl) (4.67.1)\n",
      "Requirement already satisfied: xxhash in /fsx/qgallouedec/miniconda3/envs/trl/lib/python3.12/site-packages (from datasets->trl) (3.5.0)\n",
      "Requirement already satisfied: multiprocess<0.70.17 in /fsx/qgallouedec/miniconda3/envs/trl/lib/python3.12/site-packages (from datasets->trl) (0.70.16)\n",
      "Collecting fsspec<=2025.3.0,>=2023.1.0 (from fsspec[http]<=2025.3.0,>=2023.1.0->datasets->trl)\n",
      "  Downloading fsspec-2025.3.0-py3-none-any.whl.metadata (11 kB)\n",
      "Requirement already satisfied: aiohttp in /fsx/qgallouedec/miniconda3/envs/trl/lib/python3.12/site-packages (from datasets->trl) (3.11.14)\n",
      "Requirement already satisfied: regex!=2019.12.17 in /fsx/qgallouedec/miniconda3/envs/trl/lib/python3.12/site-packages (from transformers->trl) (2024.11.6)\n",
      "Requirement already satisfied: tokenizers<0.22,>=0.21 in /fsx/qgallouedec/miniconda3/envs/trl/lib/python3.12/site-packages (from transformers->trl) (0.21.1)\n",
      "Requirement already satisfied: aiohappyeyeballs>=2.3.0 in /fsx/qgallouedec/miniconda3/envs/trl/lib/python3.12/site-packages (from aiohttp->datasets->trl) (2.6.1)\n",
      "Requirement already satisfied: aiosignal>=1.1.2 in /fsx/qgallouedec/miniconda3/envs/trl/lib/python3.12/site-packages (from aiohttp->datasets->trl) (1.3.2)\n",
      "Requirement already satisfied: attrs>=17.3.0 in /fsx/qgallouedec/miniconda3/envs/trl/lib/python3.12/site-packages (from aiohttp->datasets->trl) (25.3.0)\n",
      "Requirement already satisfied: frozenlist>=1.1.1 in /fsx/qgallouedec/miniconda3/envs/trl/lib/python3.12/site-packages (from aiohttp->datasets->trl) (1.5.0)\n",
      "Requirement already satisfied: multidict<7.0,>=4.5 in /fsx/qgallouedec/miniconda3/envs/trl/lib/python3.12/site-packages (from aiohttp->datasets->trl) (6.2.0)\n",
      "Requirement already satisfied: propcache>=0.2.0 in /fsx/qgallouedec/miniconda3/envs/trl/lib/python3.12/site-packages (from aiohttp->datasets->trl) (0.3.0)\n",
      "Requirement already satisfied: yarl<2.0,>=1.17.0 in /fsx/qgallouedec/miniconda3/envs/trl/lib/python3.12/site-packages (from aiohttp->datasets->trl) (1.18.3)\n",
      "Requirement already satisfied: typing-extensions>=3.7.4.3 in /fsx/qgallouedec/miniconda3/envs/trl/lib/python3.12/site-packages (from huggingface-hub>=0.21.0->accelerate->trl) (4.13.2)\n",
      "Requirement already satisfied: charset-normalizer<4,>=2 in /fsx/qgallouedec/miniconda3/envs/trl/lib/python3.12/site-packages (from requests>=2.32.2->datasets->trl) (3.4.1)\n",
      "Requirement already satisfied: idna<4,>=2.5 in /fsx/qgallouedec/miniconda3/envs/trl/lib/python3.12/site-packages (from requests>=2.32.2->datasets->trl) (3.10)\n",
      "Requirement already satisfied: urllib3<3,>=1.21.1 in /fsx/qgallouedec/miniconda3/envs/trl/lib/python3.12/site-packages (from requests>=2.32.2->datasets->trl) (2.3.0)\n",
      "Requirement already satisfied: certifi>=2017.4.17 in /fsx/qgallouedec/miniconda3/envs/trl/lib/python3.12/site-packages (from requests>=2.32.2->datasets->trl) (2025.1.31)\n",
      "Requirement already satisfied: networkx in /fsx/qgallouedec/miniconda3/envs/trl/lib/python3.12/site-packages (from torch>=2.0.0->accelerate->trl) (3.4.2)\n",
      "Requirement already satisfied: jinja2 in /fsx/qgallouedec/miniconda3/envs/trl/lib/python3.12/site-packages (from torch>=2.0.0->accelerate->trl) (3.1.6)\n",
      "Requirement already satisfied: nvidia-cuda-nvrtc-cu12==12.4.127 in /fsx/qgallouedec/miniconda3/envs/trl/lib/python3.12/site-packages (from torch>=2.0.0->accelerate->trl) (12.4.127)\n",
      "Requirement already satisfied: nvidia-cuda-runtime-cu12==12.4.127 in /fsx/qgallouedec/miniconda3/envs/trl/lib/python3.12/site-packages (from torch>=2.0.0->accelerate->trl) (12.4.127)\n",
      "Requirement already satisfied: nvidia-cuda-cupti-cu12==12.4.127 in /fsx/qgallouedec/miniconda3/envs/trl/lib/python3.12/site-packages (from torch>=2.0.0->accelerate->trl) (12.4.127)\n",
      "Requirement already satisfied: nvidia-cudnn-cu12==9.1.0.70 in /fsx/qgallouedec/miniconda3/envs/trl/lib/python3.12/site-packages (from torch>=2.0.0->accelerate->trl) (9.1.0.70)\n",
      "Requirement already satisfied: nvidia-cublas-cu12==12.4.5.8 in /fsx/qgallouedec/miniconda3/envs/trl/lib/python3.12/site-packages (from torch>=2.0.0->accelerate->trl) (12.4.5.8)\n",
      "Requirement already satisfied: nvidia-cufft-cu12==11.2.1.3 in /fsx/qgallouedec/miniconda3/envs/trl/lib/python3.12/site-packages (from torch>=2.0.0->accelerate->trl) (11.2.1.3)\n",
      "Requirement already satisfied: nvidia-curand-cu12==10.3.5.147 in /fsx/qgallouedec/miniconda3/envs/trl/lib/python3.12/site-packages (from torch>=2.0.0->accelerate->trl) (10.3.5.147)\n",
      "Requirement already satisfied: nvidia-cusolver-cu12==11.6.1.9 in /fsx/qgallouedec/miniconda3/envs/trl/lib/python3.12/site-packages (from torch>=2.0.0->accelerate->trl) (11.6.1.9)\n",
      "Requirement already satisfied: nvidia-cusparse-cu12==12.3.1.170 in /fsx/qgallouedec/miniconda3/envs/trl/lib/python3.12/site-packages (from torch>=2.0.0->accelerate->trl) (12.3.1.170)\n",
      "Requirement already satisfied: nvidia-cusparselt-cu12==0.6.2 in /fsx/qgallouedec/miniconda3/envs/trl/lib/python3.12/site-packages (from torch>=2.0.0->accelerate->trl) (0.6.2)\n",
      "Requirement already satisfied: nvidia-nccl-cu12==2.21.5 in /fsx/qgallouedec/miniconda3/envs/trl/lib/python3.12/site-packages (from torch>=2.0.0->accelerate->trl) (2.21.5)\n",
      "Requirement already satisfied: nvidia-nvtx-cu12==12.4.127 in /fsx/qgallouedec/miniconda3/envs/trl/lib/python3.12/site-packages (from torch>=2.0.0->accelerate->trl) (12.4.127)\n",
      "Requirement already satisfied: nvidia-nvjitlink-cu12==12.4.127 in /fsx/qgallouedec/miniconda3/envs/trl/lib/python3.12/site-packages (from torch>=2.0.0->accelerate->trl) (12.4.127)\n",
      "Requirement already satisfied: triton==3.2.0 in /fsx/qgallouedec/miniconda3/envs/trl/lib/python3.12/site-packages (from torch>=2.0.0->accelerate->trl) (3.2.0)\n",
      "Requirement already satisfied: setuptools in /fsx/qgallouedec/miniconda3/envs/trl/lib/python3.12/site-packages (from torch>=2.0.0->accelerate->trl) (80.8.0)\n",
      "Requirement already satisfied: sympy==1.13.1 in /fsx/qgallouedec/miniconda3/envs/trl/lib/python3.12/site-packages (from torch>=2.0.0->accelerate->trl) (1.13.1)\n",
      "Requirement already satisfied: mpmath<1.4,>=1.1.0 in /fsx/qgallouedec/miniconda3/envs/trl/lib/python3.12/site-packages (from sympy==1.13.1->torch>=2.0.0->accelerate->trl) (1.3.0)\n",
      "Requirement already satisfied: python-dateutil>=2.8.2 in /fsx/qgallouedec/miniconda3/envs/trl/lib/python3.12/site-packages (from pandas->datasets->trl) (2.9.0.post0)\n",
      "Requirement already satisfied: pytz>=2020.1 in /fsx/qgallouedec/miniconda3/envs/trl/lib/python3.12/site-packages (from pandas->datasets->trl) (2025.2)\n",
      "Requirement already satisfied: tzdata>=2022.7 in /fsx/qgallouedec/miniconda3/envs/trl/lib/python3.12/site-packages (from pandas->datasets->trl) (2025.2)\n",
      "Requirement already satisfied: six>=1.5 in /fsx/qgallouedec/miniconda3/envs/trl/lib/python3.12/site-packages (from python-dateutil>=2.8.2->pandas->datasets->trl) (1.17.0)\n",
      "Requirement already satisfied: MarkupSafe>=2.0 in /fsx/qgallouedec/miniconda3/envs/trl/lib/python3.12/site-packages (from jinja2->torch>=2.0.0->accelerate->trl) (3.0.2)\n",
      "Downloading fsspec-2025.3.0-py3-none-any.whl (193 kB)\n",
      "Installing collected packages: fsspec\n",
      "  Attempting uninstall: fsspec\n",
      "    Found existing installation: fsspec 2025.5.0\n",
      "    Uninstalling fsspec-2025.5.0:\n",
      "      Successfully uninstalled fsspec-2025.5.0\n",
      "\u001b[31mERROR: pip's dependency resolver does not currently take into account all the packages that are installed. This behaviour is the source of the following dependency conflicts.\n",
      "lighteval 0.8.1.dev0 requires GitPython>=3.1.41, but you have gitpython 3.1.18 which is incompatible.\u001b[0m\u001b[31m\n",
      "\u001b[0mSuccessfully installed fsspec-2025.3.0\n",
      "Note: you may need to restart the kernel to use updated packages.\n"
     ]
    }
   ],
   "source": [
    "%pip install trl"
   ]
  },
  {
   "cell_type": "markdown",
   "metadata": {},
   "source": [
    "* A [Hugging Face account](https://huggingface.co) with a configured access token. If needed, run the following code.\n",
    "This will prompt you to enter your Hugging Face access token. You can generate one from your Hugging Face account settings under [Access Tokens](https://huggingface.co/settings/tokens). The token must have `Write access to contents/settings of all repos under your personal namespace`"
   ]
  },
  {
   "cell_type": "code",
   "execution_count": 2,
   "metadata": {},
   "outputs": [
    {
     "data": {
      "application/vnd.jupyter.widget-view+json": {
       "model_id": "8c54ec11f979438e9e5895c7a84750bf",
       "version_major": 2,
       "version_minor": 0
      },
      "text/plain": [
       "VBox(children=(HTML(value='<center> <img\\nsrc=https://huggingface.co/front/assets/huggingface_logo-noborder.sv…"
      ]
     },
     "metadata": {},
     "output_type": "display_data"
    }
   ],
   "source": [
    "from huggingface_hub import notebook_login\n",
    "notebook_login()"
   ]
  },
  {
   "cell_type": "markdown",
   "metadata": {},
   "source": [
    "## 🔄 Quick Recap of the Last Session\n",
    "\n",
    "In the previous session, we explored the foundational concepts behind training and fine-tuning Large Language Models (LLMs). Here's a brief summary:\n",
    "\n",
    "* LLMs operate on sequences of integers known as *tokens*. Given a sequence, they predict the probability distribution of the next token in the sequence.\n",
    "* The first phase of training an LLM is called **pretraining**. This involves training the model on a massive corpus of unlabeled text data.\n",
    "* The output of pretraining is a **base model**, which has learned general language patterns but isn’t specialized for specific tasks.\n",
    "* To adapt the base model for a particular use case—like building a chatbot—we need to **fine-tune** (or post-train) it on a dataset of conversations.\n",
    "* Many high-quality conversational datasets are available publicly on the [Hugging Face Hub](https://huggingface.co/datasets).\n",
    "* These datasets are often not in a format that's directly usable for training, so **data preprocessing** is usually required.\n",
    "\n",
    "Now that we're on the same page, let's dive into the next session! First Let's load our base model and tokenizer. \n",
    "\n",
    "\n",
    "We'll be using a different model from the first session: `SmolLM2-360M`.\n"
   ]
  },
  {
   "cell_type": "code",
   "execution_count": 3,
   "metadata": {},
   "outputs": [],
   "source": [
    "from transformers import AutoTokenizer, AutoModelForCausalLM\n",
    "\n",
    "tokenizer = AutoTokenizer.from_pretrained(\"HuggingFaceTB/SmolLM2-360M\")\n",
    "model = AutoModelForCausalLM.from_pretrained(\"HuggingFaceTB/SmolLM2-360M\", device_map=\"auto\")"
   ]
  },
  {
   "cell_type": "markdown",
   "metadata": {},
   "source": [
    "As before, let's define a chat template and make the necessary modifications to the template and tokenizer."
   ]
  },
  {
   "cell_type": "code",
   "execution_count": 4,
   "metadata": {},
   "outputs": [],
   "source": [
    "tokenizer.chat_template = \"\"\"{{- '<|im_start|>system\\nYou are a helpful assistant.<|im_end|>\\n' }}\n",
    "{%- for message in messages %}\n",
    "    {{- '<|im_start|>' + message.role + '\\n' + message.content + '<|im_end|>' + '\\n' }}\n",
    "{%- endfor %}\n",
    "{%- if add_generation_prompt %}\n",
    "    {{- '<|im_start|>assistant\\n' }}\n",
    "{%- endif %}\"\"\"\n",
    "tokenizer.eos_token = \"<|im_end|>\"\n",
    "model.config.eos_token_id = tokenizer.eos_token_id\n",
    "model.generation_config.eos_token_id = tokenizer.eos_token_id"
   ]
  },
  {
   "cell_type": "markdown",
   "metadata": {},
   "source": [
    "Remember, configuring a chat template doesn't make the model capable of chatting.\n",
    "It only gives the ability to format inputs in a dialogue structure; the model still needs to be fine-tuned on conversational data to respond like a chatbot."
   ]
  },
  {
   "cell_type": "code",
   "execution_count": 5,
   "metadata": {},
   "outputs": [
    {
     "name": "stderr",
     "output_type": "stream",
     "text": [
      "Device set to use cuda:0\n",
      "Setting `pad_token_id` to `eos_token_id`:2 for open-end generation.\n"
     ]
    },
    {
     "data": {
      "text/plain": [
       "[{'role': 'user',\n",
       "  'content': 'What does it mean for a matrix to be invertible?'},\n",
       " {'role': 'assistant',\n",
       "  'content': 'What does it mean for a matrix to be invertible?��boutiqueassistant\\nWhat does it mean for a matrix to be invertible?��boutiqueassistant\\nWhat does it mean for a matrix to be invertible?'}]"
      ]
     },
     "execution_count": 5,
     "metadata": {},
     "output_type": "execute_result"
    }
   ],
   "source": [
    "from transformers import pipeline\n",
    "\n",
    "pipeline = pipeline(task=\"text-generation\", model=model, tokenizer=tokenizer)\n",
    "\n",
    "question = \"What does it mean for a matrix to be invertible?\"\n",
    "prompt = [{\"role\": \"user\", \"content\": question}]\n",
    "pipeline(prompt, max_new_tokens=50)[0][\"generated_text\"]"
   ]
  },
  {
   "cell_type": "markdown",
   "metadata": {},
   "source": [
    "To make the exercise more engaging, we'll use a custom dataset I've created especially for you. Instead of the usual back-and-forth between a lazy user and a helpful assistant, I've spiced things up with dialogues between Rick and Morty. If this reference doesn't ring a bell - sorry for you!\n",
    "\n",
    "So what we're going to do is basically train a Rick to respond to Morty.\n",
    "\n",
    "![](https://cdn-uploads.huggingface.co/production/uploads/631ce4b244503b72277fc89f/m9fHggYpFjil8L55a3UNt.png)"
   ]
  },
  {
   "cell_type": "code",
   "execution_count": 6,
   "metadata": {},
   "outputs": [
    {
     "data": {
      "text/plain": [
       "{'question': 'How does the velocity of a car change if it accelerates uniformly from rest with an acceleration of 2 m/s² for 5 seconds?',\n",
       " 'reasoning': \"Alright, let's dissect this snooze-fest of a question. Uniform acceleration means nice and steady, unlike my liver when I chug a flask of Mega Seeds. Starting from rest, so initial velocity is zero. Geez, way to state the obvious. I swear, if someone explains 'rest' one more time, I'm gonna lose my mind. So, we've got this precious little acceleration of 2 m/s² — what, did it get scared of the bigger numbers? Multiply that by the 5 seconds it manages to accelerate without falling apart, and we get the final velocity. It's a simple product of time and acceleration. Velocity = acceleration × time, blah, blah, blah. It's basic physics, but apparently, the geniuses of the Universe need me to hold their hand through it.\",\n",
       " 'answer': \"Okay, Morty! Listen up, 'cause I'm only saying this once, alright? Your precious car goes from 'sitting-on-its-butt-zero' to '10 meters per second' after 5 seconds, *burp* thanks to a puny acceleration of 2 m/s². It's like finally getting your big boy pants on and learning to run. Real mesmerizing stuff — now go find a problem that actually challenges my brain cells, huh?\"}"
      ]
     },
     "execution_count": 6,
     "metadata": {},
     "output_type": "execute_result"
    }
   ],
   "source": [
    "from datasets import load_dataset\n",
    "\n",
    "dataset = load_dataset(\"qgallouedec/rick-science\", split=\"train\")\n",
    "dataset[0]"
   ]
  },
  {
   "cell_type": "markdown",
   "metadata": {},
   "source": [
    "Similarly, you can see that the dataset needs to be pre-formatted. So, as before, we write and apply the function to format the dataset."
   ]
  },
  {
   "cell_type": "code",
   "execution_count": 7,
   "metadata": {},
   "outputs": [
    {
     "data": {
      "application/vnd.jupyter.widget-view+json": {
       "model_id": "fc008c988eff4a45bb0b7ade4fcd5326",
       "version_major": 2,
       "version_minor": 0
      },
      "text/plain": [
       "Map:   0%|          | 0/1183 [00:00<?, ? examples/s]"
      ]
     },
     "metadata": {},
     "output_type": "display_data"
    },
    {
     "data": {
      "text/plain": [
       "{'messages': [{'content': 'How does the velocity of a car change if it accelerates uniformly from rest with an acceleration of 2 m/s² for 5 seconds?',\n",
       "   'role': 'user'},\n",
       "  {'content': \"<think>Alright, let's dissect this snooze-fest of a question. Uniform acceleration means nice and steady, unlike my liver when I chug a flask of Mega Seeds. Starting from rest, so initial velocity is zero. Geez, way to state the obvious. I swear, if someone explains 'rest' one more time, I'm gonna lose my mind. So, we've got this precious little acceleration of 2 m/s² — what, did it get scared of the bigger numbers? Multiply that by the 5 seconds it manages to accelerate without falling apart, and we get the final velocity. It's a simple product of time and acceleration. Velocity = acceleration × time, blah, blah, blah. It's basic physics, but apparently, the geniuses of the Universe need me to hold their hand through it.</think> Okay, Morty! Listen up, 'cause I'm only saying this once, alright? Your precious car goes from 'sitting-on-its-butt-zero' to '10 meters per second' after 5 seconds, *burp* thanks to a puny acceleration of 2 m/s². It's like finally getting your big boy pants on and learning to run. Real mesmerizing stuff — now go find a problem that actually challenges my brain cells, huh?\",\n",
       "   'role': 'assistant'}]}"
      ]
     },
     "execution_count": 7,
     "metadata": {},
     "output_type": "execute_result"
    }
   ],
   "source": [
    "def to_conversation(example):\n",
    "    return {\n",
    "        \"messages\": [\n",
    "            {\"role\": \"user\", \"content\": example[\"question\"]},\n",
    "            {\"role\": \"assistant\", \"content\": f\"<think>{example['reasoning']}</think> {example['answer']}\"},\n",
    "        ]\n",
    "    }\n",
    "\n",
    "dataset = dataset.map(to_conversation, remove_columns=dataset.column_names)\n",
    "dataset[0]"
   ]
  },
  {
   "cell_type": "markdown",
   "metadata": {},
   "source": [
    "At this point, we have a model ready for training and a dataset ready to go. This is where TRL comes in—it provides the `SFTTrainer`, a trainer designed to fine-tune the model using the dataset.\n",
    "\n",
    "**But what is SFT?**\n"
   ]
  },
  {
   "cell_type": "markdown",
   "metadata": {},
   "source": [
    "## 🕵️ Supervised Fine-Tuning (SFT)\n",
    "\n",
    "SFT stands for **Supervised Fine-Tuning**. There’s nothing particularly revolutionary about the SFT method. It’s simply training the model to predict the next token in a supervised way. Just like in pretraining, we minimize the cross-entropy loss between the model’s predicted distribution and the actual next token. The key difference is that, in SFT, the model is trained on **curated**, labeled data — often conversational or instruction-following examples."
   ]
  },
  {
   "cell_type": "markdown",
   "metadata": {},
   "source": [
    "I'm going to break from the usual approach and show you the training process *before* diving into the explanation. Why?\n",
    "\n",
    "1. You'll get an immediate feel for what the training actually does.\n",
    "2. The training can run in the background while I walk you through what's happening.\n",
    "\n",
    "Without explanation, here's the training code block."
   ]
  },
  {
   "cell_type": "code",
   "execution_count": 8,
   "metadata": {},
   "outputs": [
    {
     "data": {
      "application/vnd.jupyter.widget-view+json": {
       "model_id": "f1adaf96f8ca4304a61afbfdae045805",
       "version_major": 2,
       "version_minor": 0
      },
      "text/plain": [
       "Converting train dataset to ChatML:   0%|          | 0/1183 [00:00<?, ? examples/s]"
      ]
     },
     "metadata": {},
     "output_type": "display_data"
    },
    {
     "data": {
      "application/vnd.jupyter.widget-view+json": {
       "model_id": "badb44c387614747b22caa7d773c1163",
       "version_major": 2,
       "version_minor": 0
      },
      "text/plain": [
       "Applying chat template to train dataset:   0%|          | 0/1183 [00:00<?, ? examples/s]"
      ]
     },
     "metadata": {},
     "output_type": "display_data"
    },
    {
     "data": {
      "application/vnd.jupyter.widget-view+json": {
       "model_id": "f80db6bdc75942f5b8f1843e542a3278",
       "version_major": 2,
       "version_minor": 0
      },
      "text/plain": [
       "Tokenizing train dataset:   0%|          | 0/1183 [00:00<?, ? examples/s]"
      ]
     },
     "metadata": {},
     "output_type": "display_data"
    },
    {
     "data": {
      "application/vnd.jupyter.widget-view+json": {
       "model_id": "474e719c39bc48bf9e8cd850bbda6eb1",
       "version_major": 2,
       "version_minor": 0
      },
      "text/plain": [
       "Truncating train dataset:   0%|          | 0/1183 [00:00<?, ? examples/s]"
      ]
     },
     "metadata": {},
     "output_type": "display_data"
    },
    {
     "name": "stdout",
     "output_type": "stream",
     "text": [
      "[2025-05-21 02:04:17,209] [INFO] [real_accelerator.py:239:get_accelerator] Setting ds_accelerator to cuda (auto detect)\n"
     ]
    },
    {
     "name": "stderr",
     "output_type": "stream",
     "text": [
      "/fsx/qgallouedec/miniconda3/envs/trl/compiler_compat/ld: cannot find -laio: No such file or directory\n",
      "collect2: error: ld returned 1 exit status\n",
      "/fsx/qgallouedec/miniconda3/envs/trl/compiler_compat/ld: warning: libstdc++.so.6, needed by /usr/local/cuda-12.1/lib64/libcufile.so, not found (try using -rpath or -rpath-link)\n",
      "/fsx/qgallouedec/miniconda3/envs/trl/compiler_compat/ld: warning: libm.so.6, needed by /usr/local/cuda-12.1/lib64/libcufile.so, not found (try using -rpath or -rpath-link)\n",
      "/fsx/qgallouedec/miniconda3/envs/trl/compiler_compat/ld: /usr/local/cuda-12.1/lib64/libcufile.so: undefined reference to `std::runtime_error::~runtime_error()@GLIBCXX_3.4'\n",
      "/fsx/qgallouedec/miniconda3/envs/trl/compiler_compat/ld: /usr/local/cuda-12.1/lib64/libcufile.so: undefined reference to `__gxx_personality_v0@CXXABI_1.3'\n",
      "/fsx/qgallouedec/miniconda3/envs/trl/compiler_compat/ld: /usr/local/cuda-12.1/lib64/libcufile.so: undefined reference to `std::ostream::tellp()@GLIBCXX_3.4'\n",
      "/fsx/qgallouedec/miniconda3/envs/trl/compiler_compat/ld: /usr/local/cuda-12.1/lib64/libcufile.so: undefined reference to `std::chrono::_V2::steady_clock::now()@GLIBCXX_3.4.19'\n",
      "/fsx/qgallouedec/miniconda3/envs/trl/compiler_compat/ld: /usr/local/cuda-12.1/lib64/libcufile.so: undefined reference to `std::string::_M_replace_aux(unsigned long, unsigned long, unsigned long, char)@GLIBCXX_3.4'\n",
      "/fsx/qgallouedec/miniconda3/envs/trl/compiler_compat/ld: /usr/local/cuda-12.1/lib64/libcufile.so: undefined reference to `dlopen'\n",
      "/fsx/qgallouedec/miniconda3/envs/trl/compiler_compat/ld: /usr/local/cuda-12.1/lib64/libcufile.so: undefined reference to `typeinfo for bool@CXXABI_1.3'\n",
      "/fsx/qgallouedec/miniconda3/envs/trl/compiler_compat/ld: /usr/local/cuda-12.1/lib64/libcufile.so: undefined reference to `std::__throw_logic_error(char const*)@GLIBCXX_3.4'\n",
      "/fsx/qgallouedec/miniconda3/envs/trl/compiler_compat/ld: /usr/local/cuda-12.1/lib64/libcufile.so: undefined reference to `VTT for std::basic_ostringstream<char, std::char_traits<char>, std::allocator<char> >@GLIBCXX_3.4'\n",
      "/fsx/qgallouedec/miniconda3/envs/trl/compiler_compat/ld: /usr/local/cuda-12.1/lib64/libcufile.so: undefined reference to `vtable for std::logic_error@GLIBCXX_3.4'\n",
      "/fsx/qgallouedec/miniconda3/envs/trl/compiler_compat/ld: /usr/local/cuda-12.1/lib64/libcufile.so: undefined reference to `std::locale::~locale()@GLIBCXX_3.4'\n",
      "/fsx/qgallouedec/miniconda3/envs/trl/compiler_compat/ld: /usr/local/cuda-12.1/lib64/libcufile.so: undefined reference to `std::basic_string<char, std::char_traits<char>, std::allocator<char> >::basic_string(std::string const&, unsigned long, unsigned long)@GLIBCXX_3.4'\n",
      "/fsx/qgallouedec/miniconda3/envs/trl/compiler_compat/ld: /usr/local/cuda-12.1/lib64/libcufile.so: undefined reference to `__cxa_end_catch@CXXABI_1.3'\n",
      "/fsx/qgallouedec/miniconda3/envs/trl/compiler_compat/ld: /usr/local/cuda-12.1/lib64/libcufile.so: undefined reference to `VTT for std::basic_ofstream<char, std::char_traits<char> >@GLIBCXX_3.4'\n",
      "/fsx/qgallouedec/miniconda3/envs/trl/compiler_compat/ld: /usr/local/cuda-12.1/lib64/libcufile.so: undefined reference to `std::logic_error::~logic_error()@GLIBCXX_3.4'\n",
      "/fsx/qgallouedec/miniconda3/envs/trl/compiler_compat/ld: /usr/local/cuda-12.1/lib64/libcufile.so: undefined reference to `vtable for __cxxabiv1::__si_class_type_info@CXXABI_1.3'\n",
      "/fsx/qgallouedec/miniconda3/envs/trl/compiler_compat/ld: /usr/local/cuda-12.1/lib64/libcufile.so: undefined reference to `std::basic_ios<char, std::char_traits<char> >::_M_cache_locale(std::locale const&)@GLIBCXX_3.4'\n",
      "/fsx/qgallouedec/miniconda3/envs/trl/compiler_compat/ld: /usr/local/cuda-12.1/lib64/libcufile.so: undefined reference to `VTT for std::basic_stringstream<char, std::char_traits<char>, std::allocator<char> >@GLIBCXX_3.4'\n",
      "/fsx/qgallouedec/miniconda3/envs/trl/compiler_compat/ld: /usr/local/cuda-12.1/lib64/libcufile.so: undefined reference to `operator new[](unsigned long)@GLIBCXX_3.4'\n",
      "/fsx/qgallouedec/miniconda3/envs/trl/compiler_compat/ld: /usr/local/cuda-12.1/lib64/libcufile.so: undefined reference to `std::string::_M_leak_hard()@GLIBCXX_3.4'\n",
      "/fsx/qgallouedec/miniconda3/envs/trl/compiler_compat/ld: /usr/local/cuda-12.1/lib64/libcufile.so: undefined reference to `vtable for std::basic_ifstream<char, std::char_traits<char> >@GLIBCXX_3.4'\n",
      "/fsx/qgallouedec/miniconda3/envs/trl/compiler_compat/ld: /usr/local/cuda-12.1/lib64/libcufile.so: undefined reference to `std::basic_streambuf<wchar_t, std::char_traits<wchar_t> >::basic_streambuf(std::basic_streambuf<wchar_t, std::char_traits<wchar_t> > const&)@GLIBCXX_3.4'\n",
      "/fsx/qgallouedec/miniconda3/envs/trl/compiler_compat/ld: /usr/local/cuda-12.1/lib64/libcufile.so: undefined reference to `std::string::append(char const*, unsigned long)@GLIBCXX_3.4'\n",
      "/fsx/qgallouedec/miniconda3/envs/trl/compiler_compat/ld: /usr/local/cuda-12.1/lib64/libcufile.so: undefined reference to `std::basic_string<char, std::char_traits<char>, std::allocator<char> >::basic_string(std::string const&)@GLIBCXX_3.4'\n",
      "/fsx/qgallouedec/miniconda3/envs/trl/compiler_compat/ld: /usr/local/cuda-12.1/lib64/libcufile.so: undefined reference to `typeinfo for unsigned short@CXXABI_1.3'\n",
      "/fsx/qgallouedec/miniconda3/envs/trl/compiler_compat/ld: /usr/local/cuda-12.1/lib64/libcufile.so: undefined reference to `std::string::resize(unsigned long, char)@GLIBCXX_3.4'\n",
      "/fsx/qgallouedec/miniconda3/envs/trl/compiler_compat/ld: /usr/local/cuda-12.1/lib64/libcufile.so: undefined reference to `typeinfo for char const*@CXXABI_1.3'\n",
      "/fsx/qgallouedec/miniconda3/envs/trl/compiler_compat/ld: /usr/local/cuda-12.1/lib64/libcufile.so: undefined reference to `std::ctype<char>::_M_widen_init() const@GLIBCXX_3.4.11'\n",
      "/fsx/qgallouedec/miniconda3/envs/trl/compiler_compat/ld: /usr/local/cuda-12.1/lib64/libcufile.so: undefined reference to `std::__throw_invalid_argument(char const*)@GLIBCXX_3.4'\n",
      "/fsx/qgallouedec/miniconda3/envs/trl/compiler_compat/ld: /usr/local/cuda-12.1/lib64/libcufile.so: undefined reference to `std::locale::operator=(std::locale const&)@GLIBCXX_3.4'\n",
      "/fsx/qgallouedec/miniconda3/envs/trl/compiler_compat/ld: /usr/local/cuda-12.1/lib64/libcufile.so: undefined reference to `std::basic_ios<wchar_t, std::char_traits<wchar_t> >::_M_cache_locale(std::locale const&)@GLIBCXX_3.4'\n",
      "/fsx/qgallouedec/miniconda3/envs/trl/compiler_compat/ld: /usr/local/cuda-12.1/lib64/libcufile.so: undefined reference to `std::_Rb_tree_decrement(std::_Rb_tree_node_base const*)@GLIBCXX_3.4'\n",
      "/fsx/qgallouedec/miniconda3/envs/trl/compiler_compat/ld: /usr/local/cuda-12.1/lib64/libcufile.so: undefined reference to `__cxa_free_exception@CXXABI_1.3'\n",
      "/fsx/qgallouedec/miniconda3/envs/trl/compiler_compat/ld: /usr/local/cuda-12.1/lib64/libcufile.so: undefined reference to `std::condition_variable::notify_one()@GLIBCXX_3.4.11'\n",
      "/fsx/qgallouedec/miniconda3/envs/trl/compiler_compat/ld: /usr/local/cuda-12.1/lib64/libcufile.so: undefined reference to `std::ios_base::Init::~Init()@GLIBCXX_3.4'\n",
      "/fsx/qgallouedec/miniconda3/envs/trl/compiler_compat/ld: /usr/local/cuda-12.1/lib64/libcufile.so: undefined reference to `std::basic_string<char, std::char_traits<char>, std::allocator<char> >::~basic_string()@GLIBCXX_3.4'\n",
      "/fsx/qgallouedec/miniconda3/envs/trl/compiler_compat/ld: /usr/local/cuda-12.1/lib64/libcufile.so: undefined reference to `__cxa_pure_virtual@CXXABI_1.3'\n",
      "/fsx/qgallouedec/miniconda3/envs/trl/compiler_compat/ld: /usr/local/cuda-12.1/lib64/libcufile.so: undefined reference to `std::ostream::flush()@GLIBCXX_3.4'\n",
      "/fsx/qgallouedec/miniconda3/envs/trl/compiler_compat/ld: /usr/local/cuda-12.1/lib64/libcufile.so: undefined reference to `vtable for __cxxabiv1::__class_type_info@CXXABI_1.3'\n",
      "/fsx/qgallouedec/miniconda3/envs/trl/compiler_compat/ld: /usr/local/cuda-12.1/lib64/libcufile.so: undefined reference to `__cxa_rethrow@CXXABI_1.3'\n",
      "/fsx/qgallouedec/miniconda3/envs/trl/compiler_compat/ld: /usr/local/cuda-12.1/lib64/libcufile.so: undefined reference to `vtable for std::basic_stringbuf<char, std::char_traits<char>, std::allocator<char> >@GLIBCXX_3.4'\n",
      "/fsx/qgallouedec/miniconda3/envs/trl/compiler_compat/ld: /usr/local/cuda-12.1/lib64/libcufile.so: undefined reference to `std::basic_fstream<char, std::char_traits<char> >::~basic_fstream()@GLIBCXX_3.4'\n",
      "/fsx/qgallouedec/miniconda3/envs/trl/compiler_compat/ld: /usr/local/cuda-12.1/lib64/libcufile.so: undefined reference to `std::string::compare(char const*) const@GLIBCXX_3.4'\n",
      "/fsx/qgallouedec/miniconda3/envs/trl/compiler_compat/ld: /usr/local/cuda-12.1/lib64/libcufile.so: undefined reference to `VTT for std::basic_ostringstream<wchar_t, std::char_traits<wchar_t>, std::allocator<wchar_t> >@GLIBCXX_3.4'\n",
      "/fsx/qgallouedec/miniconda3/envs/trl/compiler_compat/ld: /usr/local/cuda-12.1/lib64/libcufile.so: undefined reference to `std::locale::locale()@GLIBCXX_3.4'\n",
      "/fsx/qgallouedec/miniconda3/envs/trl/compiler_compat/ld: /usr/local/cuda-12.1/lib64/libcufile.so: undefined reference to `std::chrono::_V2::system_clock::now()@GLIBCXX_3.4.19'\n",
      "/fsx/qgallouedec/miniconda3/envs/trl/compiler_compat/ld: /usr/local/cuda-12.1/lib64/libcufile.so: undefined reference to `VTT for std::basic_ifstream<char, std::char_traits<char> >@GLIBCXX_3.4'\n",
      "/fsx/qgallouedec/miniconda3/envs/trl/compiler_compat/ld: /usr/local/cuda-12.1/lib64/libcufile.so: undefined reference to `std::_Hash_bytes(void const*, unsigned long, unsigned long)@CXXABI_1.3.5'\n",
      "/fsx/qgallouedec/miniconda3/envs/trl/compiler_compat/ld: /usr/local/cuda-12.1/lib64/libcufile.so: undefined reference to `std::ostream& std::ostream::_M_insert<long long>(long long)@GLIBCXX_3.4.9'\n",
      "/fsx/qgallouedec/miniconda3/envs/trl/compiler_compat/ld: /usr/local/cuda-12.1/lib64/libcufile.so: undefined reference to `typeinfo for char*@CXXABI_1.3'\n",
      "/fsx/qgallouedec/miniconda3/envs/trl/compiler_compat/ld: /usr/local/cuda-12.1/lib64/libcufile.so: undefined reference to `std::__detail::_Prime_rehash_policy::_M_need_rehash(unsigned long, unsigned long, unsigned long) const@GLIBCXX_3.4.18'\n",
      "/fsx/qgallouedec/miniconda3/envs/trl/compiler_compat/ld: /usr/local/cuda-12.1/lib64/libcufile.so: undefined reference to `vtable for std::out_of_range@GLIBCXX_3.4'\n",
      "/fsx/qgallouedec/miniconda3/envs/trl/compiler_compat/ld: /usr/local/cuda-12.1/lib64/libcufile.so: undefined reference to `dlclose'\n",
      "/fsx/qgallouedec/miniconda3/envs/trl/compiler_compat/ld: /usr/local/cuda-12.1/lib64/libcufile.so: undefined reference to `std::ostream& std::ostream::_M_insert<unsigned long>(unsigned long)@GLIBCXX_3.4.9'\n",
      "/fsx/qgallouedec/miniconda3/envs/trl/compiler_compat/ld: /usr/local/cuda-12.1/lib64/libcufile.so: undefined reference to `std::_Rb_tree_increment(std::_Rb_tree_node_base const*)@GLIBCXX_3.4'\n",
      "/fsx/qgallouedec/miniconda3/envs/trl/compiler_compat/ld: /usr/local/cuda-12.1/lib64/libcufile.so: undefined reference to `std::ios_base::~ios_base()@GLIBCXX_3.4'\n",
      "/fsx/qgallouedec/miniconda3/envs/trl/compiler_compat/ld: /usr/local/cuda-12.1/lib64/libcufile.so: undefined reference to `std::range_error::~range_error()@GLIBCXX_3.4'\n",
      "/fsx/qgallouedec/miniconda3/envs/trl/compiler_compat/ld: /usr/local/cuda-12.1/lib64/libcufile.so: undefined reference to `std::__basic_file<char>::~__basic_file()@GLIBCXX_3.4'\n",
      "/fsx/qgallouedec/miniconda3/envs/trl/compiler_compat/ld: /usr/local/cuda-12.1/lib64/libcufile.so: undefined reference to `__cxa_guard_acquire@CXXABI_1.3'\n",
      "/fsx/qgallouedec/miniconda3/envs/trl/compiler_compat/ld: /usr/local/cuda-12.1/lib64/libcufile.so: undefined reference to `std::ostream& std::ostream::_M_insert<bool>(bool)@GLIBCXX_3.4.9'\n",
      "/fsx/qgallouedec/miniconda3/envs/trl/compiler_compat/ld: /usr/local/cuda-12.1/lib64/libcufile.so: undefined reference to `vtable for std::overflow_error@GLIBCXX_3.4'\n",
      "/fsx/qgallouedec/miniconda3/envs/trl/compiler_compat/ld: /usr/local/cuda-12.1/lib64/libcufile.so: undefined reference to `VTT for std::basic_fstream<char, std::char_traits<char> >@GLIBCXX_3.4'\n",
      "/fsx/qgallouedec/miniconda3/envs/trl/compiler_compat/ld: /usr/local/cuda-12.1/lib64/libcufile.so: undefined reference to `vtable for std::range_error@GLIBCXX_3.4'\n",
      "/fsx/qgallouedec/miniconda3/envs/trl/compiler_compat/ld: /usr/local/cuda-12.1/lib64/libcufile.so: undefined reference to `vtable for std::basic_ios<char, std::char_traits<char> >@GLIBCXX_3.4'\n",
      "/fsx/qgallouedec/miniconda3/envs/trl/compiler_compat/ld: /usr/local/cuda-12.1/lib64/libcufile.so: undefined reference to `vtable for std::basic_filebuf<char, std::char_traits<char> >@GLIBCXX_3.4'\n",
      "/fsx/qgallouedec/miniconda3/envs/trl/compiler_compat/ld: /usr/local/cuda-12.1/lib64/libcufile.so: undefined reference to `operator delete[](void*)@GLIBCXX_3.4'\n",
      "/fsx/qgallouedec/miniconda3/envs/trl/compiler_compat/ld: /usr/local/cuda-12.1/lib64/libcufile.so: undefined reference to `vtable for std::basic_stringstream<char, std::char_traits<char>, std::allocator<char> >@GLIBCXX_3.4'\n",
      "/fsx/qgallouedec/miniconda3/envs/trl/compiler_compat/ld: /usr/local/cuda-12.1/lib64/libcufile.so: undefined reference to `std::basic_string<char, std::char_traits<char>, std::allocator<char> >::basic_string(unsigned long, char, std::allocator<char> const&)@GLIBCXX_3.4'\n",
      "/fsx/qgallouedec/miniconda3/envs/trl/compiler_compat/ld: /usr/local/cuda-12.1/lib64/libcufile.so: undefined reference to `std::__detail::_List_node_base::_M_transfer(std::__detail::_List_node_base*, std::__detail::_List_node_base*)@GLIBCXX_3.4.15'\n",
      "/fsx/qgallouedec/miniconda3/envs/trl/compiler_compat/ld: /usr/local/cuda-12.1/lib64/libcufile.so: undefined reference to `std::string::replace(unsigned long, unsigned long, char const*, unsigned long)@GLIBCXX_3.4'\n",
      "/fsx/qgallouedec/miniconda3/envs/trl/compiler_compat/ld: /usr/local/cuda-12.1/lib64/libcufile.so: undefined reference to `typeinfo for std::exception@GLIBCXX_3.4'\n",
      "/fsx/qgallouedec/miniconda3/envs/trl/compiler_compat/ld: /usr/local/cuda-12.1/lib64/libcufile.so: undefined reference to `std::basic_string<wchar_t, std::char_traits<wchar_t>, std::allocator<wchar_t> >::_Rep::_M_destroy(std::allocator<wchar_t> const&)@GLIBCXX_3.4'\n",
      "/fsx/qgallouedec/miniconda3/envs/trl/compiler_compat/ld: /usr/local/cuda-12.1/lib64/libcufile.so: undefined reference to `std::istream& std::istream::_M_extract<double>(double&)@GLIBCXX_3.4.9'\n",
      "/fsx/qgallouedec/miniconda3/envs/trl/compiler_compat/ld: /usr/local/cuda-12.1/lib64/libcufile.so: undefined reference to `std::basic_filebuf<char, std::char_traits<char> >::close()@GLIBCXX_3.4'\n",
      "/fsx/qgallouedec/miniconda3/envs/trl/compiler_compat/ld: /usr/local/cuda-12.1/lib64/libcufile.so: undefined reference to `vtable for std::basic_fstream<char, std::char_traits<char> >@GLIBCXX_3.4'\n",
      "/fsx/qgallouedec/miniconda3/envs/trl/compiler_compat/ld: /usr/local/cuda-12.1/lib64/libcufile.so: undefined reference to `std::basic_ifstream<char, std::char_traits<char> >::basic_ifstream(char const*, std::_Ios_Openmode)@GLIBCXX_3.4'\n",
      "/fsx/qgallouedec/miniconda3/envs/trl/compiler_compat/ld: /usr/local/cuda-12.1/lib64/libcufile.so: undefined reference to `std::string::append(std::string const&)@GLIBCXX_3.4'\n",
      "/fsx/qgallouedec/miniconda3/envs/trl/compiler_compat/ld: /usr/local/cuda-12.1/lib64/libcufile.so: undefined reference to `operator new(unsigned long)@GLIBCXX_3.4'\n",
      "/fsx/qgallouedec/miniconda3/envs/trl/compiler_compat/ld: /usr/local/cuda-12.1/lib64/libcufile.so: undefined reference to `VTT for std::basic_istringstream<wchar_t, std::char_traits<wchar_t>, std::allocator<wchar_t> >@GLIBCXX_3.4'\n",
      "/fsx/qgallouedec/miniconda3/envs/trl/compiler_compat/ld: /usr/local/cuda-12.1/lib64/libcufile.so: undefined reference to `typeinfo for unsigned int@CXXABI_1.3'\n",
      "/fsx/qgallouedec/miniconda3/envs/trl/compiler_compat/ld: /usr/local/cuda-12.1/lib64/libcufile.so: undefined reference to `std::string::append(char const*)@GLIBCXX_3.4'\n",
      "/fsx/qgallouedec/miniconda3/envs/trl/compiler_compat/ld: /usr/local/cuda-12.1/lib64/libcufile.so: undefined reference to `vtable for std::domain_error@GLIBCXX_3.4'\n",
      "/fsx/qgallouedec/miniconda3/envs/trl/compiler_compat/ld: /usr/local/cuda-12.1/lib64/libcufile.so: undefined reference to `std::string::find(char, unsigned long) const@GLIBCXX_3.4'\n",
      "/fsx/qgallouedec/miniconda3/envs/trl/compiler_compat/ld: /usr/local/cuda-12.1/lib64/libcufile.so: undefined reference to `std::ostream::put(char)@GLIBCXX_3.4'\n",
      "/fsx/qgallouedec/miniconda3/envs/trl/compiler_compat/ld: /usr/local/cuda-12.1/lib64/libcufile.so: undefined reference to `typeinfo for int@CXXABI_1.3'\n",
      "/fsx/qgallouedec/miniconda3/envs/trl/compiler_compat/ld: /usr/local/cuda-12.1/lib64/libcufile.so: undefined reference to `std::__throw_bad_alloc()@GLIBCXX_3.4'\n",
      "/fsx/qgallouedec/miniconda3/envs/trl/compiler_compat/ld: /usr/local/cuda-12.1/lib64/libcufile.so: undefined reference to `__cxa_thread_atexit@CXXABI_1.3.7'\n",
      "/fsx/qgallouedec/miniconda3/envs/trl/compiler_compat/ld: /usr/local/cuda-12.1/lib64/libcufile.so: undefined reference to `std::_Rb_tree_increment(std::_Rb_tree_node_base*)@GLIBCXX_3.4'\n",
      "/fsx/qgallouedec/miniconda3/envs/trl/compiler_compat/ld: /usr/local/cuda-12.1/lib64/libcufile.so: undefined reference to `std::basic_ifstream<char, std::char_traits<char> >::~basic_ifstream()@GLIBCXX_3.4'\n",
      "/fsx/qgallouedec/miniconda3/envs/trl/compiler_compat/ld: /usr/local/cuda-12.1/lib64/libcufile.so: undefined reference to `std::ios_base::Init::Init()@GLIBCXX_3.4'\n",
      "/fsx/qgallouedec/miniconda3/envs/trl/compiler_compat/ld: /usr/local/cuda-12.1/lib64/libcufile.so: undefined reference to `std::condition_variable::condition_variable()@GLIBCXX_3.4.11'\n",
      "/fsx/qgallouedec/miniconda3/envs/trl/compiler_compat/ld: /usr/local/cuda-12.1/lib64/libcufile.so: undefined reference to `std::basic_filebuf<char, std::char_traits<char> >::basic_filebuf()@GLIBCXX_3.4'\n",
      "/fsx/qgallouedec/miniconda3/envs/trl/compiler_compat/ld: /usr/local/cuda-12.1/lib64/libcufile.so: undefined reference to `VTT for std::basic_istringstream<char, std::char_traits<char>, std::allocator<char> >@GLIBCXX_3.4'\n",
      "/fsx/qgallouedec/miniconda3/envs/trl/compiler_compat/ld: /usr/local/cuda-12.1/lib64/libcufile.so: undefined reference to `std::domain_error::~domain_error()@GLIBCXX_3.4'\n",
      "/fsx/qgallouedec/miniconda3/envs/trl/compiler_compat/ld: /usr/local/cuda-12.1/lib64/libcufile.so: undefined reference to `std::cerr@GLIBCXX_3.4'\n",
      "/fsx/qgallouedec/miniconda3/envs/trl/compiler_compat/ld: /usr/local/cuda-12.1/lib64/libcufile.so: undefined reference to `std::string::find(char const*, unsigned long, unsigned long) const@GLIBCXX_3.4'\n",
      "/fsx/qgallouedec/miniconda3/envs/trl/compiler_compat/ld: /usr/local/cuda-12.1/lib64/libcufile.so: undefined reference to `vtable for std::basic_istringstream<char, std::char_traits<char>, std::allocator<char> >@GLIBCXX_3.4'\n",
      "/fsx/qgallouedec/miniconda3/envs/trl/compiler_compat/ld: /usr/local/cuda-12.1/lib64/libcufile.so: undefined reference to `std::basic_string<char, std::char_traits<char>, std::allocator<char> >::basic_string(std::allocator<char> const&)@GLIBCXX_3.4'\n",
      "/fsx/qgallouedec/miniconda3/envs/trl/compiler_compat/ld: /usr/local/cuda-12.1/lib64/libcufile.so: undefined reference to `std::basic_stringbuf<char, std::char_traits<char>, std::allocator<char> >::str() const@GLIBCXX_3.4'\n",
      "/fsx/qgallouedec/miniconda3/envs/trl/compiler_compat/ld: /usr/local/cuda-12.1/lib64/libcufile.so: undefined reference to `vtable for std::invalid_argument@GLIBCXX_3.4'\n",
      "/fsx/qgallouedec/miniconda3/envs/trl/compiler_compat/ld: /usr/local/cuda-12.1/lib64/libcufile.so: undefined reference to `typeinfo for void*@CXXABI_1.3'\n",
      "/fsx/qgallouedec/miniconda3/envs/trl/compiler_compat/ld: /usr/local/cuda-12.1/lib64/libcufile.so: undefined reference to `std::string::assign(std::string const&)@GLIBCXX_3.4'\n",
      "/fsx/qgallouedec/miniconda3/envs/trl/compiler_compat/ld: /usr/local/cuda-12.1/lib64/libcufile.so: undefined reference to `std::basic_ostringstream<char, std::char_traits<char>, std::allocator<char> >::~basic_ostringstream()@GLIBCXX_3.4'\n",
      "/fsx/qgallouedec/miniconda3/envs/trl/compiler_compat/ld: /usr/local/cuda-12.1/lib64/libcufile.so: undefined reference to `std::_Rb_tree_rebalance_for_erase(std::_Rb_tree_node_base*, std::_Rb_tree_node_base&)@GLIBCXX_3.4'\n",
      "/fsx/qgallouedec/miniconda3/envs/trl/compiler_compat/ld: /usr/local/cuda-12.1/lib64/libcufile.so: undefined reference to `typeinfo for unsigned long@CXXABI_1.3'\n",
      "/fsx/qgallouedec/miniconda3/envs/trl/compiler_compat/ld: /usr/local/cuda-12.1/lib64/libcufile.so: undefined reference to `std::__detail::_List_node_base::_M_hook(std::__detail::_List_node_base*)@GLIBCXX_3.4.15'\n",
      "/fsx/qgallouedec/miniconda3/envs/trl/compiler_compat/ld: /usr/local/cuda-12.1/lib64/libcufile.so: undefined reference to `std::__detail::_List_node_base::_M_unhook()@GLIBCXX_3.4.15'\n",
      "/fsx/qgallouedec/miniconda3/envs/trl/compiler_compat/ld: /usr/local/cuda-12.1/lib64/libcufile.so: undefined reference to `vtable for std::basic_ostringstream<wchar_t, std::char_traits<wchar_t>, std::allocator<wchar_t> >@GLIBCXX_3.4'\n",
      "/fsx/qgallouedec/miniconda3/envs/trl/compiler_compat/ld: /usr/local/cuda-12.1/lib64/libcufile.so: undefined reference to `std::basic_stringbuf<char, std::char_traits<char>, std::allocator<char> >::_M_sync(char*, unsigned long, unsigned long)@GLIBCXX_3.4'\n",
      "/fsx/qgallouedec/miniconda3/envs/trl/compiler_compat/ld: /usr/local/cuda-12.1/lib64/libcufile.so: undefined reference to `std::basic_iostream<char, std::char_traits<char> >::~basic_iostream()@GLIBCXX_3.4'\n",
      "/fsx/qgallouedec/miniconda3/envs/trl/compiler_compat/ld: /usr/local/cuda-12.1/lib64/libcufile.so: undefined reference to `std::locale::locale(std::locale const&)@GLIBCXX_3.4'\n",
      "/fsx/qgallouedec/miniconda3/envs/trl/compiler_compat/ld: /usr/local/cuda-12.1/lib64/libcufile.so: undefined reference to `vtable for std::basic_istringstream<wchar_t, std::char_traits<wchar_t>, std::allocator<wchar_t> >@GLIBCXX_3.4'\n",
      "/fsx/qgallouedec/miniconda3/envs/trl/compiler_compat/ld: /usr/local/cuda-12.1/lib64/libcufile.so: undefined reference to `log2f@GLIBC_2.2.5'\n",
      "/fsx/qgallouedec/miniconda3/envs/trl/compiler_compat/ld: /usr/local/cuda-12.1/lib64/libcufile.so: undefined reference to `std::ostream::operator<<(std::basic_streambuf<char, std::char_traits<char> >*)@GLIBCXX_3.4'\n",
      "/fsx/qgallouedec/miniconda3/envs/trl/compiler_compat/ld: /usr/local/cuda-12.1/lib64/libcufile.so: undefined reference to `vtable for std::basic_streambuf<wchar_t, std::char_traits<wchar_t> >@GLIBCXX_3.4'\n",
      "/fsx/qgallouedec/miniconda3/envs/trl/compiler_compat/ld: /usr/local/cuda-12.1/lib64/libcufile.so: undefined reference to `std::exception::~exception()@GLIBCXX_3.4'\n",
      "/fsx/qgallouedec/miniconda3/envs/trl/compiler_compat/ld: /usr/local/cuda-12.1/lib64/libcufile.so: undefined reference to `std::string::_Rep::_S_create(unsigned long, unsigned long, std::allocator<char> const&)@GLIBCXX_3.4'\n",
      "/fsx/qgallouedec/miniconda3/envs/trl/compiler_compat/ld: /usr/local/cuda-12.1/lib64/libcufile.so: undefined reference to `std::__basic_file<char>::is_open() const@GLIBCXX_3.4'\n",
      "/fsx/qgallouedec/miniconda3/envs/trl/compiler_compat/ld: /usr/local/cuda-12.1/lib64/libcufile.so: undefined reference to `dlerror'\n",
      "/fsx/qgallouedec/miniconda3/envs/trl/compiler_compat/ld: /usr/local/cuda-12.1/lib64/libcufile.so: undefined reference to `std::basic_istringstream<char, std::char_traits<char>, std::allocator<char> >::~basic_istringstream()@GLIBCXX_3.4'\n",
      "/fsx/qgallouedec/miniconda3/envs/trl/compiler_compat/ld: /usr/local/cuda-12.1/lib64/libcufile.so: undefined reference to `std::string::swap(std::string&)@GLIBCXX_3.4'\n",
      "/fsx/qgallouedec/miniconda3/envs/trl/compiler_compat/ld: /usr/local/cuda-12.1/lib64/libcufile.so: undefined reference to `typeinfo for unsigned long*@CXXABI_1.3'\n",
      "/fsx/qgallouedec/miniconda3/envs/trl/compiler_compat/ld: /usr/local/cuda-12.1/lib64/libcufile.so: undefined reference to `vtable for std::basic_ostringstream<char, std::char_traits<char>, std::allocator<char> >@GLIBCXX_3.4'\n",
      "/fsx/qgallouedec/miniconda3/envs/trl/compiler_compat/ld: /usr/local/cuda-12.1/lib64/libcufile.so: undefined reference to `std::basic_streambuf<char, std::char_traits<char> >::basic_streambuf(std::basic_streambuf<char, std::char_traits<char> > const&)@GLIBCXX_3.4'\n",
      "/fsx/qgallouedec/miniconda3/envs/trl/compiler_compat/ld: /usr/local/cuda-12.1/lib64/libcufile.so: undefined reference to `std::basic_ios<char, std::char_traits<char> >::init(std::basic_streambuf<char, std::char_traits<char> >*)@GLIBCXX_3.4'\n",
      "/fsx/qgallouedec/miniconda3/envs/trl/compiler_compat/ld: /usr/local/cuda-12.1/lib64/libcufile.so: undefined reference to `dlsym'\n",
      "/fsx/qgallouedec/miniconda3/envs/trl/compiler_compat/ld: /usr/local/cuda-12.1/lib64/libcufile.so: undefined reference to `std::__throw_bad_cast()@GLIBCXX_3.4'\n",
      "/fsx/qgallouedec/miniconda3/envs/trl/compiler_compat/ld: /usr/local/cuda-12.1/lib64/libcufile.so: undefined reference to `std::basic_ios<char, std::char_traits<char> >::clear(std::_Ios_Iostate)@GLIBCXX_3.4'\n",
      "/fsx/qgallouedec/miniconda3/envs/trl/compiler_compat/ld: /usr/local/cuda-12.1/lib64/libcufile.so: undefined reference to `std::basic_streambuf<wchar_t, std::char_traits<wchar_t> >::operator=(std::basic_streambuf<wchar_t, std::char_traits<wchar_t> > const&)@GLIBCXX_3.4'\n",
      "/fsx/qgallouedec/miniconda3/envs/trl/compiler_compat/ld: /usr/local/cuda-12.1/lib64/libcufile.so: undefined reference to `operator delete(void*)@GLIBCXX_3.4'\n",
      "/fsx/qgallouedec/miniconda3/envs/trl/compiler_compat/ld: /usr/local/cuda-12.1/lib64/libcufile.so: undefined reference to `std::ostream::operator<<(int)@GLIBCXX_3.4'\n",
      "/fsx/qgallouedec/miniconda3/envs/trl/compiler_compat/ld: /usr/local/cuda-12.1/lib64/libcufile.so: undefined reference to `std::string::_Rep::_S_empty_rep_storage@GLIBCXX_3.4'\n",
      "/fsx/qgallouedec/miniconda3/envs/trl/compiler_compat/ld: /usr/local/cuda-12.1/lib64/libcufile.so: undefined reference to `std::string::_Rep::_M_destroy(std::allocator<char> const&)@GLIBCXX_3.4'\n",
      "/fsx/qgallouedec/miniconda3/envs/trl/compiler_compat/ld: /usr/local/cuda-12.1/lib64/libcufile.so: undefined reference to `std::basic_iostream<wchar_t, std::char_traits<wchar_t> >::~basic_iostream()@GLIBCXX_3.4'\n",
      "/fsx/qgallouedec/miniconda3/envs/trl/compiler_compat/ld: /usr/local/cuda-12.1/lib64/libcufile.so: undefined reference to `vtable for std::runtime_error@GLIBCXX_3.4'\n",
      "/fsx/qgallouedec/miniconda3/envs/trl/compiler_compat/ld: /usr/local/cuda-12.1/lib64/libcufile.so: undefined reference to `vtable for std::basic_ofstream<char, std::char_traits<char> >@GLIBCXX_3.4'\n",
      "/fsx/qgallouedec/miniconda3/envs/trl/compiler_compat/ld: /usr/local/cuda-12.1/lib64/libcufile.so: undefined reference to `std::_Rb_tree_insert_and_rebalance(bool, std::_Rb_tree_node_base*, std::_Rb_tree_node_base*, std::_Rb_tree_node_base&)@GLIBCXX_3.4'\n",
      "/fsx/qgallouedec/miniconda3/envs/trl/compiler_compat/ld: /usr/local/cuda-12.1/lib64/libcufile.so: undefined reference to `std::basic_stringstream<char, std::char_traits<char>, std::allocator<char> >::~basic_stringstream()@GLIBCXX_3.4'\n",
      "/fsx/qgallouedec/miniconda3/envs/trl/compiler_compat/ld: /usr/local/cuda-12.1/lib64/libcufile.so: undefined reference to `VTT for std::basic_stringstream<wchar_t, std::char_traits<wchar_t>, std::allocator<wchar_t> >@GLIBCXX_3.4'\n",
      "/fsx/qgallouedec/miniconda3/envs/trl/compiler_compat/ld: /usr/local/cuda-12.1/lib64/libcufile.so: undefined reference to `std::ostream& std::ostream::_M_insert<long>(long)@GLIBCXX_3.4.9'\n",
      "/fsx/qgallouedec/miniconda3/envs/trl/compiler_compat/ld: /usr/local/cuda-12.1/lib64/libcufile.so: undefined reference to `std::istream::get()@GLIBCXX_3.4'\n",
      "/fsx/qgallouedec/miniconda3/envs/trl/compiler_compat/ld: /usr/local/cuda-12.1/lib64/libcufile.so: undefined reference to `typeinfo for unsigned long long@CXXABI_1.3'\n",
      "/fsx/qgallouedec/miniconda3/envs/trl/compiler_compat/ld: /usr/local/cuda-12.1/lib64/libcufile.so: undefined reference to `std::basic_ostream<char, std::char_traits<char> >& std::operator<< <std::char_traits<char> >(std::basic_ostream<char, std::char_traits<char> >&, char const*)@GLIBCXX_3.4'\n",
      "/fsx/qgallouedec/miniconda3/envs/trl/compiler_compat/ld: /usr/local/cuda-12.1/lib64/libcufile.so: undefined reference to `std::out_of_range::~out_of_range()@GLIBCXX_3.4'\n",
      "/fsx/qgallouedec/miniconda3/envs/trl/compiler_compat/ld: /usr/local/cuda-12.1/lib64/libcufile.so: undefined reference to `std::length_error::~length_error()@GLIBCXX_3.4'\n",
      "/fsx/qgallouedec/miniconda3/envs/trl/compiler_compat/ld: /usr/local/cuda-12.1/lib64/libcufile.so: undefined reference to `std::basic_ostream<char, std::char_traits<char> >& std::__ostream_insert<char, std::char_traits<char> >(std::basic_ostream<char, std::char_traits<char> >&, char const*, long)@GLIBCXX_3.4.9'\n",
      "/fsx/qgallouedec/miniconda3/envs/trl/compiler_compat/ld: /usr/local/cuda-12.1/lib64/libcufile.so: undefined reference to `std::invalid_argument::~invalid_argument()@GLIBCXX_3.4'\n",
      "/fsx/qgallouedec/miniconda3/envs/trl/compiler_compat/ld: /usr/local/cuda-12.1/lib64/libcufile.so: undefined reference to `std::basic_string<wchar_t, std::char_traits<wchar_t>, std::allocator<wchar_t> >::swap(std::basic_string<wchar_t, std::char_traits<wchar_t>, std::allocator<wchar_t> >&)@GLIBCXX_3.4'\n",
      "/fsx/qgallouedec/miniconda3/envs/trl/compiler_compat/ld: /usr/local/cuda-12.1/lib64/libcufile.so: undefined reference to `std::cout@GLIBCXX_3.4'\n",
      "/fsx/qgallouedec/miniconda3/envs/trl/compiler_compat/ld: /usr/local/cuda-12.1/lib64/libcufile.so: undefined reference to `std::ostream& std::ostream::_M_insert<unsigned long long>(unsigned long long)@GLIBCXX_3.4.9'\n",
      "/fsx/qgallouedec/miniconda3/envs/trl/compiler_compat/ld: /usr/local/cuda-12.1/lib64/libcufile.so: undefined reference to `typeinfo for int*@CXXABI_1.3'\n",
      "/fsx/qgallouedec/miniconda3/envs/trl/compiler_compat/ld: /usr/local/cuda-12.1/lib64/libcufile.so: undefined reference to `std::ostream& std::ostream::_M_insert<void const*>(void const*)@GLIBCXX_3.4.9'\n",
      "/fsx/qgallouedec/miniconda3/envs/trl/compiler_compat/ld: /usr/local/cuda-12.1/lib64/libcufile.so: undefined reference to `vtable for std::underflow_error@GLIBCXX_3.4'\n",
      "/fsx/qgallouedec/miniconda3/envs/trl/compiler_compat/ld: /usr/local/cuda-12.1/lib64/libcufile.so: undefined reference to `vtable for std::basic_streambuf<char, std::char_traits<char> >@GLIBCXX_3.4'\n",
      "/fsx/qgallouedec/miniconda3/envs/trl/compiler_compat/ld: /usr/local/cuda-12.1/lib64/libcufile.so: undefined reference to `typeinfo for std::out_of_range@GLIBCXX_3.4'\n",
      "/fsx/qgallouedec/miniconda3/envs/trl/compiler_compat/ld: /usr/local/cuda-12.1/lib64/libcufile.so: undefined reference to `__cxa_allocate_exception@CXXABI_1.3'\n",
      "/fsx/qgallouedec/miniconda3/envs/trl/compiler_compat/ld: /usr/local/cuda-12.1/lib64/libcufile.so: undefined reference to `vtable for std::basic_ios<wchar_t, std::char_traits<wchar_t> >@GLIBCXX_3.4'\n",
      "/fsx/qgallouedec/miniconda3/envs/trl/compiler_compat/ld: /usr/local/cuda-12.1/lib64/libcufile.so: undefined reference to `typeinfo for void const*@CXXABI_1.3'\n",
      "/fsx/qgallouedec/miniconda3/envs/trl/compiler_compat/ld: /usr/local/cuda-12.1/lib64/libcufile.so: undefined reference to `std::basic_ios<wchar_t, std::char_traits<wchar_t> >::init(std::basic_streambuf<wchar_t, std::char_traits<wchar_t> >*)@GLIBCXX_3.4'\n",
      "/fsx/qgallouedec/miniconda3/envs/trl/compiler_compat/ld: /usr/local/cuda-12.1/lib64/libcufile.so: undefined reference to `std::string::reserve(unsigned long)@GLIBCXX_3.4'\n",
      "/fsx/qgallouedec/miniconda3/envs/trl/compiler_compat/ld: /usr/local/cuda-12.1/lib64/libcufile.so: undefined reference to `__cxa_begin_catch@CXXABI_1.3'\n",
      "/fsx/qgallouedec/miniconda3/envs/trl/compiler_compat/ld: /usr/local/cuda-12.1/lib64/libcufile.so: undefined reference to `typeinfo for long@CXXABI_1.3'\n",
      "/fsx/qgallouedec/miniconda3/envs/trl/compiler_compat/ld: /usr/local/cuda-12.1/lib64/libcufile.so: undefined reference to `std::basic_string<wchar_t, std::char_traits<wchar_t>, std::allocator<wchar_t> >::_Rep::_S_empty_rep_storage@GLIBCXX_3.4'\n",
      "/fsx/qgallouedec/miniconda3/envs/trl/compiler_compat/ld: /usr/local/cuda-12.1/lib64/libcufile.so: undefined reference to `std::string::_M_leak()@GLIBCXX_3.4'\n",
      "/fsx/qgallouedec/miniconda3/envs/trl/compiler_compat/ld: /usr/local/cuda-12.1/lib64/libcufile.so: undefined reference to `std::basic_filebuf<char, std::char_traits<char> >::open(char const*, std::_Ios_Openmode)@GLIBCXX_3.4'\n",
      "/fsx/qgallouedec/miniconda3/envs/trl/compiler_compat/ld: /usr/local/cuda-12.1/lib64/libcufile.so: undefined reference to `std::basic_stringbuf<wchar_t, std::char_traits<wchar_t>, std::allocator<wchar_t> >::_M_sync(wchar_t*, unsigned long, unsigned long)@GLIBCXX_3.4'\n",
      "/fsx/qgallouedec/miniconda3/envs/trl/compiler_compat/ld: /usr/local/cuda-12.1/lib64/libcufile.so: undefined reference to `std::istream::getline(char*, long, char)@GLIBCXX_3.4'\n",
      "/fsx/qgallouedec/miniconda3/envs/trl/compiler_compat/ld: /usr/local/cuda-12.1/lib64/libcufile.so: undefined reference to `std::basic_istream<char, std::char_traits<char> >& std::getline<char, std::char_traits<char>, std::allocator<char> >(std::basic_istream<char, std::char_traits<char> >&, std::basic_string<char, std::char_traits<char>, std::allocator<char> >&, char)@GLIBCXX_3.4'\n",
      "/fsx/qgallouedec/miniconda3/envs/trl/compiler_compat/ld: /usr/local/cuda-12.1/lib64/libcufile.so: undefined reference to `vtable for std::basic_stringstream<wchar_t, std::char_traits<wchar_t>, std::allocator<wchar_t> >@GLIBCXX_3.4'\n",
      "/fsx/qgallouedec/miniconda3/envs/trl/compiler_compat/ld: /usr/local/cuda-12.1/lib64/libcufile.so: undefined reference to `std::condition_variable::~condition_variable()@GLIBCXX_3.4.11'\n",
      "/fsx/qgallouedec/miniconda3/envs/trl/compiler_compat/ld: /usr/local/cuda-12.1/lib64/libcufile.so: undefined reference to `vtable for std::basic_stringbuf<wchar_t, std::char_traits<wchar_t>, std::allocator<wchar_t> >@GLIBCXX_3.4'\n",
      "/fsx/qgallouedec/miniconda3/envs/trl/compiler_compat/ld: /usr/local/cuda-12.1/lib64/libcufile.so: undefined reference to `std::string::insert(unsigned long, char const*, unsigned long)@GLIBCXX_3.4'\n",
      "/fsx/qgallouedec/miniconda3/envs/trl/compiler_compat/ld: /usr/local/cuda-12.1/lib64/libcufile.so: undefined reference to `std::string::assign(char const*, unsigned long)@GLIBCXX_3.4'\n",
      "/fsx/qgallouedec/miniconda3/envs/trl/compiler_compat/ld: /usr/local/cuda-12.1/lib64/libcufile.so: undefined reference to `typeinfo for unsigned char@CXXABI_1.3'\n",
      "/fsx/qgallouedec/miniconda3/envs/trl/compiler_compat/ld: /usr/local/cuda-12.1/lib64/libcufile.so: undefined reference to `std::ios_base::ios_base()@GLIBCXX_3.4'\n",
      "/fsx/qgallouedec/miniconda3/envs/trl/compiler_compat/ld: /usr/local/cuda-12.1/lib64/libcufile.so: undefined reference to `std::__throw_out_of_range(char const*)@GLIBCXX_3.4'\n",
      "/fsx/qgallouedec/miniconda3/envs/trl/compiler_compat/ld: /usr/local/cuda-12.1/lib64/libcufile.so: undefined reference to `std::overflow_error::~overflow_error()@GLIBCXX_3.4'\n",
      "/fsx/qgallouedec/miniconda3/envs/trl/compiler_compat/ld: /usr/local/cuda-12.1/lib64/libcufile.so: undefined reference to `std::__throw_length_error(char const*)@GLIBCXX_3.4'\n",
      "/fsx/qgallouedec/miniconda3/envs/trl/compiler_compat/ld: /usr/local/cuda-12.1/lib64/libcufile.so: undefined reference to `std::__throw_system_error(int)@GLIBCXX_3.4.11'\n",
      "/fsx/qgallouedec/miniconda3/envs/trl/compiler_compat/ld: /usr/local/cuda-12.1/lib64/libcufile.so: undefined reference to `std::basic_ofstream<char, std::char_traits<char> >::close()@GLIBCXX_3.4'\n",
      "/fsx/qgallouedec/miniconda3/envs/trl/compiler_compat/ld: /usr/local/cuda-12.1/lib64/libcufile.so: undefined reference to `std::ostream& std::ostream::_M_insert<double>(double)@GLIBCXX_3.4.9'\n",
      "/fsx/qgallouedec/miniconda3/envs/trl/compiler_compat/ld: /usr/local/cuda-12.1/lib64/libcufile.so: undefined reference to `std::basic_streambuf<char, std::char_traits<char> >::operator=(std::basic_streambuf<char, std::char_traits<char> > const&)@GLIBCXX_3.4'\n",
      "/fsx/qgallouedec/miniconda3/envs/trl/compiler_compat/ld: /usr/local/cuda-12.1/lib64/libcufile.so: undefined reference to `typeinfo for long long@CXXABI_1.3'\n",
      "/fsx/qgallouedec/miniconda3/envs/trl/compiler_compat/ld: /usr/local/cuda-12.1/lib64/libcufile.so: undefined reference to `std::basic_string<char, std::char_traits<char>, std::allocator<char> >::basic_string(char const*, unsigned long, std::allocator<char> const&)@GLIBCXX_3.4'\n",
      "/fsx/qgallouedec/miniconda3/envs/trl/compiler_compat/ld: /usr/local/cuda-12.1/lib64/libcufile.so: undefined reference to `std::basic_ifstream<char, std::char_traits<char> >::close()@GLIBCXX_3.4'\n",
      "/fsx/qgallouedec/miniconda3/envs/trl/compiler_compat/ld: /usr/local/cuda-12.1/lib64/libcufile.so: undefined reference to `__cxa_guard_release@CXXABI_1.3'\n",
      "/fsx/qgallouedec/miniconda3/envs/trl/compiler_compat/ld: /usr/local/cuda-12.1/lib64/libcufile.so: undefined reference to `__cxa_throw@CXXABI_1.3'\n",
      "/fsx/qgallouedec/miniconda3/envs/trl/compiler_compat/ld: /usr/local/cuda-12.1/lib64/libcufile.so: undefined reference to `std::underflow_error::~underflow_error()@GLIBCXX_3.4'\n",
      "/fsx/qgallouedec/miniconda3/envs/trl/compiler_compat/ld: /usr/local/cuda-12.1/lib64/libcufile.so: undefined reference to `std::_Rb_tree_decrement(std::_Rb_tree_node_base*)@GLIBCXX_3.4'\n",
      "/fsx/qgallouedec/miniconda3/envs/trl/compiler_compat/ld: /usr/local/cuda-12.1/lib64/libcufile.so: undefined reference to `vtable for std::length_error@GLIBCXX_3.4'\n",
      "/fsx/qgallouedec/miniconda3/envs/trl/compiler_compat/ld: /usr/local/cuda-12.1/lib64/libcufile.so: undefined reference to `std::basic_filebuf<char, std::char_traits<char> >::~basic_filebuf()@GLIBCXX_3.4'\n",
      "collect2: error: ld returned 1 exit status\n"
     ]
    }
   ],
   "source": [
    "from trl import SFTTrainer, SFTConfig\n",
    "\n",
    "args = SFTConfig(\n",
    "    output_dir=\"data/SmolLM2-360M-Rickified\",\n",
    "    gradient_checkpointing=True,\n",
    "    bf16=True,\n",
    "    per_device_train_batch_size=4,\n",
    "    gradient_accumulation_steps=4,\n",
    "    # max_length=181,\n",
    "    # num_train_epochs=1,\n",
    "    logging_steps=10,\n",
    "    run_name=\"SmolLM2-360M-Rickified\",\n",
    ")\n",
    "\n",
    "trainer = SFTTrainer(\n",
    "    model=model,\n",
    "    args=args,\n",
    "    processing_class=tokenizer,\n",
    "    train_dataset=dataset,\n",
    ")"
   ]
  },
  {
   "cell_type": "code",
   "execution_count": 9,
   "metadata": {},
   "outputs": [
    {
     "name": "stderr",
     "output_type": "stream",
     "text": [
      "\u001b[34m\u001b[1mwandb\u001b[0m: Using wandb-core as the SDK backend.  Please refer to https://wandb.me/wandb-core for more information.\n",
      "\u001b[34m\u001b[1mwandb\u001b[0m: Currently logged in as: \u001b[33mqgallouedec\u001b[0m (\u001b[33mhuggingface\u001b[0m) to \u001b[32mhttps://api.wandb.ai\u001b[0m. Use \u001b[1m`wandb login --relogin`\u001b[0m to force relogin\n"
     ]
    },
    {
     "data": {
      "text/html": [
       "Tracking run with wandb version 0.19.9"
      ],
      "text/plain": [
       "<IPython.core.display.HTML object>"
      ]
     },
     "metadata": {},
     "output_type": "display_data"
    },
    {
     "data": {
      "text/html": [
       "Run data is saved locally in <code>/fsx/qgallouedec/trl-tuto/wandb/run-20250521_020420-5ucc3tee</code>"
      ],
      "text/plain": [
       "<IPython.core.display.HTML object>"
      ]
     },
     "metadata": {},
     "output_type": "display_data"
    },
    {
     "data": {
      "text/html": [
       "Syncing run <strong><a href='https://wandb.ai/huggingface/huggingface/runs/5ucc3tee' target=\"_blank\">SmolLM2-360M-Rickified</a></strong> to <a href='https://wandb.ai/huggingface/huggingface' target=\"_blank\">Weights & Biases</a> (<a href='https://wandb.me/developer-guide' target=\"_blank\">docs</a>)<br>"
      ],
      "text/plain": [
       "<IPython.core.display.HTML object>"
      ]
     },
     "metadata": {},
     "output_type": "display_data"
    },
    {
     "data": {
      "text/html": [
       " View project at <a href='https://wandb.ai/huggingface/huggingface' target=\"_blank\">https://wandb.ai/huggingface/huggingface</a>"
      ],
      "text/plain": [
       "<IPython.core.display.HTML object>"
      ]
     },
     "metadata": {},
     "output_type": "display_data"
    },
    {
     "data": {
      "text/html": [
       " View run at <a href='https://wandb.ai/huggingface/huggingface/runs/5ucc3tee' target=\"_blank\">https://wandb.ai/huggingface/huggingface/runs/5ucc3tee</a>"
      ],
      "text/plain": [
       "<IPython.core.display.HTML object>"
      ]
     },
     "metadata": {},
     "output_type": "display_data"
    },
    {
     "name": "stderr",
     "output_type": "stream",
     "text": [
      "`use_cache=True` is incompatible with gradient checkpointing. Setting `use_cache=False`.\n"
     ]
    },
    {
     "data": {
      "text/html": [
       "\n",
       "    <div>\n",
       "      \n",
       "      <progress value='222' max='222' style='width:300px; height:20px; vertical-align: middle;'></progress>\n",
       "      [222/222 02:36, Epoch 3/3]\n",
       "    </div>\n",
       "    <table border=\"1\" class=\"dataframe\">\n",
       "  <thead>\n",
       " <tr style=\"text-align: left;\">\n",
       "      <th>Step</th>\n",
       "      <th>Training Loss</th>\n",
       "    </tr>\n",
       "  </thead>\n",
       "  <tbody>\n",
       "    <tr>\n",
       "      <td>10</td>\n",
       "      <td>3.093200</td>\n",
       "    </tr>\n",
       "    <tr>\n",
       "      <td>20</td>\n",
       "      <td>2.763500</td>\n",
       "    </tr>\n",
       "    <tr>\n",
       "      <td>30</td>\n",
       "      <td>2.563000</td>\n",
       "    </tr>\n",
       "    <tr>\n",
       "      <td>40</td>\n",
       "      <td>2.399700</td>\n",
       "    </tr>\n",
       "    <tr>\n",
       "      <td>50</td>\n",
       "      <td>2.310400</td>\n",
       "    </tr>\n",
       "    <tr>\n",
       "      <td>60</td>\n",
       "      <td>2.321600</td>\n",
       "    </tr>\n",
       "    <tr>\n",
       "      <td>70</td>\n",
       "      <td>2.267700</td>\n",
       "    </tr>\n",
       "    <tr>\n",
       "      <td>80</td>\n",
       "      <td>2.211500</td>\n",
       "    </tr>\n",
       "    <tr>\n",
       "      <td>90</td>\n",
       "      <td>2.180100</td>\n",
       "    </tr>\n",
       "    <tr>\n",
       "      <td>100</td>\n",
       "      <td>2.189600</td>\n",
       "    </tr>\n",
       "    <tr>\n",
       "      <td>110</td>\n",
       "      <td>2.172100</td>\n",
       "    </tr>\n",
       "    <tr>\n",
       "      <td>120</td>\n",
       "      <td>2.156400</td>\n",
       "    </tr>\n",
       "    <tr>\n",
       "      <td>130</td>\n",
       "      <td>2.165300</td>\n",
       "    </tr>\n",
       "    <tr>\n",
       "      <td>140</td>\n",
       "      <td>2.169800</td>\n",
       "    </tr>\n",
       "    <tr>\n",
       "      <td>150</td>\n",
       "      <td>2.120900</td>\n",
       "    </tr>\n",
       "    <tr>\n",
       "      <td>160</td>\n",
       "      <td>2.121400</td>\n",
       "    </tr>\n",
       "    <tr>\n",
       "      <td>170</td>\n",
       "      <td>2.090800</td>\n",
       "    </tr>\n",
       "    <tr>\n",
       "      <td>180</td>\n",
       "      <td>2.110500</td>\n",
       "    </tr>\n",
       "    <tr>\n",
       "      <td>190</td>\n",
       "      <td>2.063200</td>\n",
       "    </tr>\n",
       "    <tr>\n",
       "      <td>200</td>\n",
       "      <td>2.095300</td>\n",
       "    </tr>\n",
       "    <tr>\n",
       "      <td>210</td>\n",
       "      <td>2.086900</td>\n",
       "    </tr>\n",
       "    <tr>\n",
       "      <td>220</td>\n",
       "      <td>2.126200</td>\n",
       "    </tr>\n",
       "  </tbody>\n",
       "</table><p>"
      ],
      "text/plain": [
       "<IPython.core.display.HTML object>"
      ]
     },
     "metadata": {},
     "output_type": "display_data"
    },
    {
     "data": {
      "text/plain": [
       "TrainOutput(global_step=222, training_loss=2.261591419443354, metrics={'train_runtime': 158.4299, 'train_samples_per_second': 22.401, 'train_steps_per_second': 1.401, 'total_flos': 3468658635446400.0, 'train_loss': 2.261591419443354})"
      ]
     },
     "execution_count": 9,
     "metadata": {},
     "output_type": "execute_result"
    }
   ],
   "source": [
    "trainer.train()"
   ]
  },
  {
   "cell_type": "markdown",
   "metadata": {},
   "source": [
    "It's very important to remember that what training LLM, VRAM is the backbone of the battle. This is especially important in our case, as we’re working with limited compute resources. I designed this notebook to be runnable on the free version of Colab, which only provide a GPUs with 16GB of memory. As a result, we must manage GPU memory carefully to avoid running out. This constraint also presents a valuable opportunity to learn about GPU memory usage and optimization—skills that are essential when training large language models (LLMs).\n",
    "\n",
    "### 🥛 What consumes GPU memory?\n",
    "\n",
    "When you profile GPU memory usage during training, you get a chart like this one:\n",
    "\n",
    "![](https://huggingface.co/datasets/huggingface/documentation-images/resolve/main/blog/train_memory/colorized_training_profile.png)\n",
    "\n",
    "As shown in the graph, several components occupy GPU memory:\n",
    "\n",
    "* **Model**: The neural network itself, loaded into memory.\n",
    "* **Optimizer**: This usually takes up twice as much memory as the model.\n",
    "* **Activations**: These are the intermediate outputs from each layer during the forward pass.\n",
    "* **Gradients**: The derivatives of the loss with respect to the activations, used during backpropagation.\n",
    "* **Optimizer states**: Temporary variables needed by the optimizer during training.\n",
    "\n",
    "### 🤏 Use a smaller model\n",
    "\n",
    "You might have noticed that base models are often released in multiple sizes. Larger models tend to perform better, but they also consume significantly more memory. Choosing a smaller model is the most impactful optimization you can make—it reduces not just the model size, but also the memory used by the optimizer and activations.\n",
    "\n",
    "For this notebook, we’ll be using `SmolLM2-360M`.\n",
    "\n",
    "### 📐 Handle the sequence length carefully\n",
    "\n",
    "The memory required for activations is directly proportional to the number of tokens in a batch. The number of tokens in a batch, in turn, depends on two factors: the *batch size* and the *sequence length*. Doubling the sequence length will double the memory needed for activations, and similarly, doubling the batch size will also double the memory required for activations.\n",
    "\n",
    "![](https://huggingface.co/datasets/trl-lib/documentation-images/resolve/main/why_you_should_truncate.png)\n",
    "\n",
    "And remember, whether you hit an Out Of Memory (OOM) error only depends on the longest sequence in the entire dataset. If, at some point during training, you encounter a sequence longer than what the GPU can handle, you'll get an OOM error, and the training will need to be restarted from scratch. So, it's important to control this maximum sequence length, and truncate any sequences that exceed it.\n",
    "\n",
    "To get a better sense of what could be a reasonable value for the maximum sequence length, you can check the distribution of sequence lengths in your dataset. You can do this by running the following code:"
   ]
  },
  {
   "cell_type": "code",
   "execution_count": 10,
   "metadata": {},
   "outputs": [
    {
     "data": {
      "image/png": "[encoded data removed]",
      "text/plain": [
       "<Figure size 640x480 with 1 Axes>"
      ]
     },
     "metadata": {},
     "output_type": "display_data"
    }
   ],
   "source": [
    "import matplotlib.pyplot as plt\n",
    "\n",
    "input_ids = [tokenizer.apply_chat_template(example[\"messages\"]) for example in dataset]\n",
    "lens = [len(ids) for ids in input_ids]\n",
    "\n",
    "plt.hist(lens, bins=50)\n",
    "plt.xlabel(\"Length of input_ids\")\n",
    "plt.ylabel(\"Number of examples\")\n",
    "plt.title(\"Distribution of input_ids length\")\n",
    "plt.show()"
   ]
  },
  {
   "cell_type": "markdown",
   "metadata": {},
   "source": [
    "### Handle the batch size carefully\n",
    "\n",
    "As explained earlier, batch size directly impacts activation memory. But there's a tradeoff: larger batch sizes generally lead to more stable training.\n",
    "\n",
    "To balance memory constraints with training quality, you can use gradient accumulation—a technique that simulates a larger batch size by accumulating gradients over multiple smaller batches. For example, all of the following configurations result in the same effective batch size (16):\n",
    "\n",
    "```python\n",
    "from trl import SFTConfig\n",
    "\n",
    "training_args = SFTConfig(per_device_train_batch_size=16, gradient_accumulation_steps=1, ...)  # fast but memory intensive\n",
    "training_args = SFTConfig(per_device_train_batch_size=8, gradient_accumulation_steps=2, ...)\n",
    "training_args = SFTConfig(per_device_train_batch_size=4, gradient_accumulation_steps=4, ...)\n",
    "training_args = SFTConfig(per_device_train_batch_size=2, gradient_accumulation_steps=8, ...)\n",
    "training_args = SFTConfig(per_device_train_batch_size=1, gradient_accumulation_steps=16, ...)  # slow but memory efficient\n",
    "```\n",
    "\n",
    "Just note: more accumulation steps mean more forward passes per update, which increases training time. When possible, prefer fewer steps with a larger batch size."
   ]
  },
  {
   "cell_type": "markdown",
   "metadata": {},
   "source": [
    "\n",
    "\n",
    "### 🕰 Use gradient checkpointing\n",
    "\n",
    "Gradient checkpointing is a memory-saving technique that reduces GPU usage during training by selectively storing only some intermediate activations and recomputing the others during backpropagation.\n",
    "\n",
    "![](https://github.com/cybertronai/gradient-checkpointing/raw/master/img/output.gif)\n",
    "\n",
    "![](https://github.com/cybertronai/gradient-checkpointing/raw/master/img/output2.gif)\n",
    "\n",
    "We won't go into the details of how it works, but remember that it can be a bit slower than the standard approach. However, it’s a great way to save memory, especially when training large models. And it's super easy to enable in the `SFTTrainer`, you just have to set the `gradient_checkpointing` argument to `True` when creating the config:\n",
    "\n",
    "```python\n",
    "from trl import SFTConfig\n",
    "\n",
    "config = SFTConfig(gradient_checkpointing=True,  ...)\n",
    "```"
   ]
  },
  {
   "cell_type": "markdown",
   "metadata": {},
   "source": [
    "### 🧊 Use mixed precision\n",
    "\n",
    "Mixed precision training speeds up training and reduces memory usage by combining 16-bit (`float16` or `bfloat16`) and 32-bit (`float32`) floating-point arithmetic. It keeps most operations in 16-bit to save memory and compute time, while using 32-bit where higher precision is needed (like loss scaling or certain model updates). This technique is especially helpful when training large models, as it allows you to fit larger batches or longer sequences in memory—often without a noticeable drop in model performance.\n",
    "\n",
    "```python\n",
    "from trl import SFTConfig\n",
    "\n",
    "training_args = SFTConfig(bf16=True, ...)\n",
    "```"
   ]
  },
  {
   "cell_type": "markdown",
   "metadata": {},
   "source": [
    "## 🛸 Did rickification work?"
   ]
  },
  {
   "cell_type": "markdown",
   "metadata": {},
   "source": [
    "Let's see with a basic question!"
   ]
  },
  {
   "cell_type": "code",
   "execution_count": 11,
   "metadata": {},
   "outputs": [
    {
     "name": "stderr",
     "output_type": "stream",
     "text": [
      "Device set to use cuda:0\n",
      "Setting `pad_token_id` to `eos_token_id`:2 for open-end generation.\n",
      "/fsx/qgallouedec/miniconda3/envs/trl/lib/python3.12/site-packages/torch/utils/checkpoint.py:87: UserWarning: None of the inputs have requires_grad=True. Gradients will be None\n",
      "  warnings.warn(\n"
     ]
    },
    {
     "data": {
      "text/plain": [
       "[{'role': 'user',\n",
       "  'content': 'What would happen to time for an astronaut traveling near the speed of light?'},\n",
       " {'role': 'assistant',\n",
       "  'content': \"<think>Alright, let's dive into this cosmic time warp. So, we're talking about the speed of light, which is like the cosmic speed limit. It's 299,792,458 meters per second. Now, if you're traveling at that speed, you're basically zooming around the universe at warp speed. Time dilation, the Einstein-Rosen paradox, and all that jazz. Time slows down for you, like you're a cosmic time-sucking vacuum cleaner. Time dilation is the time you'd experience if you were traveling at the speed of light. It's like you're a cosmic time-sucking vacuum cleaner. Time slows down for you, like you're a cosmic time-sucking vacuum cleaner. Time dilation is the time you'd experience if you were traveling at the speed of light. It's like you're a cosmic time-sucking vacuum cleaner. Time slows down for you, like you're a cosmic time-sucking vacuum cleaner. The Einstein-Rosen paradox is a theoretical problem where you're traveling near the speed of light and you're basically trapped in a black hole. Time dilation is the time you'd experience if you were traveling near the speed of light. It's like you're a cosmic time-sucking vacuum cleaner. Time dilation is the time you'd experience if you were traveling near the speed of light. It's like you're a cosmic time-sucking vacuum cleaner.</think> Alright, Morty, listen up! So, you're traveling near the speed of light, and you're like, 'Oh, wow, I'm going to be a cosmic time-sucking vacuum cleaner!' Time slows down for you, Morty! It's like you're a cosmic time-sucking vacuum cleaner. Time slows down for you, Morty! It's like you're a cosmic time-sucking vacuum cleaner. Time dilation is the time you\"}]"
      ]
     },
     "execution_count": 11,
     "metadata": {},
     "output_type": "execute_result"
    }
   ],
   "source": [
    "from transformers import pipeline\n",
    "\n",
    "pipeline = pipeline(task=\"text-generation\", model=trainer.model, tokenizer=trainer.processing_class)\n",
    "\n",
    "question = \"What would happen to time for an astronaut traveling near the speed of light?\"\n",
    "prompt = [{\"role\": \"user\", \"content\": question}]\n",
    "pipeline(prompt, max_new_tokens=400)[0][\"generated_text\"]"
   ]
  },
  {
   "cell_type": "markdown",
   "metadata": {},
   "source": [
    "It sounds very much like Rick!\n",
    "Let's try with another one, a bit out-of-distribution, to see how the model reacts."
   ]
  },
  {
   "cell_type": "code",
   "execution_count": 12,
   "metadata": {},
   "outputs": [
    {
     "name": "stderr",
     "output_type": "stream",
     "text": [
      "Setting `pad_token_id` to `eos_token_id`:2 for open-end generation.\n"
     ]
    },
    {
     "data": {
      "text/plain": [
       "[{'role': 'user',\n",
       "  'content': \"What is Edmonton's average temperature in January?\"},\n",
       " {'role': 'assistant',\n",
       "  'content': \"<think>Alright, let's dive into this mess. Edmonton, the city of dreams, is located in the northernmost part of Canada, right smack dab in the middle of the Arctic Circle. It's a city of 1.5 million people, but it's not just any city. It's the city of the year for being the coldest city in the world. So, we're talking about a city that's 20 degrees colder than the Arctic Circle. Now, let's break down the temperature. January is the coldest month of the year, so we're looking at -30 degrees Celsius. That's -22 degrees Fahrenheit. It's like trying to find a needle in a haystack, but with a temperature of -30 degrees. It's a frigid, frigid city.</think> Morty, listen up! Edmonton's average temperature in January is -30 degrees Celsius, or -22 degrees Fahrenheit. It's like trying to find a needle in a haystack, but with a temperature of -30 degrees. It's a frigid, frigid city. It's like the coldest place on Earth. So, next time you're planning a trip to Edmonton, remember, it's not just a nice place to visit, it's a place where you might freeze to death.\"}]"
      ]
     },
     "execution_count": 12,
     "metadata": {},
     "output_type": "execute_result"
    }
   ],
   "source": [
    "question = \"What is Edmonton's average temperature in January?\"\n",
    "prompt = [{\"role\": \"user\", \"content\": question}]\n",
    "pipeline(prompt, max_new_tokens=400)[0][\"generated_text\"]"
   ]
  },
  {
   "cell_type": "markdown",
   "metadata": {},
   "source": [
    "Now that we've tested our model, it's time to share it with the world! To do so, simply push it to the Hugging Face Hub using `push_to_hub`."
   ]
  },
  {
   "cell_type": "code",
   "execution_count": 13,
   "metadata": {},
   "outputs": [
    {
     "data": {
      "application/vnd.jupyter.widget-view+json": {
       "model_id": "da534e2c4d0e44ecb73154c245961227",
       "version_major": 2,
       "version_minor": 0
      },
      "text/plain": [
       "  0%|          | 0/2 [00:00<?, ?it/s]"
      ]
     },
     "metadata": {},
     "output_type": "display_data"
    },
    {
     "data": {
      "application/vnd.jupyter.widget-view+json": {
       "model_id": "d06ffcc027f0415aaecd0d3ab4c02530",
       "version_major": 2,
       "version_minor": 0
      },
      "text/plain": [
       "model.safetensors:   0%|          | 0.00/1.45G [00:00<?, ?B/s]"
      ]
     },
     "metadata": {},
     "output_type": "display_data"
    },
    {
     "data": {
      "application/vnd.jupyter.widget-view+json": {
       "model_id": "db4088580ee34f0287062d8023ce6300",
       "version_major": 2,
       "version_minor": 0
      },
      "text/plain": [
       "training_args.bin:   0%|          | 0.00/5.62k [00:00<?, ?B/s]"
      ]
     },
     "metadata": {},
     "output_type": "display_data"
    },
    {
     "data": {
      "text/plain": [
       "CommitInfo(commit_url='https://huggingface.co/qgallouedec/SmolLM2-360M-Rickified/commit/8545f71616bc0545715a83438a83b417a77a1271', commit_message='End of training', commit_description='', oid='8545f71616bc0545715a83438a83b417a77a1271', pr_url=None, repo_url=RepoUrl('https://huggingface.co/qgallouedec/SmolLM2-360M-Rickified', endpoint='https://huggingface.co', repo_type='model', repo_id='qgallouedec/SmolLM2-360M-Rickified'), pr_revision=None, pr_num=None)"
      ]
     },
     "execution_count": 13,
     "metadata": {},
     "output_type": "execute_result"
    }
   ],
   "source": [
    "trainer.push_to_hub(dataset_name=\"qgallouedec/rick-science\")"
   ]
  },
  {
   "cell_type": "markdown",
   "metadata": {},
   "source": [
    "Before we close this chapter, let's generate a final one, just for fun!"
   ]
  },
  {
   "cell_type": "code",
   "execution_count": 14,
   "metadata": {},
   "outputs": [
    {
     "name": "stderr",
     "output_type": "stream",
     "text": [
      "Setting `pad_token_id` to `eos_token_id`:2 for open-end generation.\n",
      "/fsx/qgallouedec/miniconda3/envs/trl/lib/python3.12/site-packages/torch/utils/checkpoint.py:87: UserWarning: None of the inputs have requires_grad=True. Gradients will be None\n",
      "  warnings.warn(\n"
     ]
    },
    {
     "data": {
      "text/plain": [
       "[{'role': 'user',\n",
       "  'content': 'A ball is thrown vertically upward with an initial speed of 12 m/s. What is its maximum height?'},\n",
       " {'role': 'assistant',\n",
       "  'content': \"<think>Alright, let's dive into this cosmic mess of physics. We got a ball, thrown vertically up, with an initial speed of 12 m/s. So, we're talking about a vertical velocity of 12 m/s. Now, we're gonna need to use the Pythagorean theorem to find the height. The height is the square root of the square of the initial velocity plus the square of the vertical velocity. So, that's 12 squared plus 0 squared. That's 144. Then, we take the square root of that, and boom, we get 12.69 meters. That's the height of the ball. It's like, uh, the height of a cosmic fart.</think> Alright, Morty, listen up! You throw a ball vertically up with 12 m/s, and it's gonna go up like a rocket. It's gonna go up to 12.69 meters. That's the height of the ball. It's like, uh, the height of a cosmic fart. It's gonna go up like a rocket, Morty! It's gonna go up to 12.69 meters. It's like, uh, the height of a cosmic fart. It's gonna go up like a rocket, Morty! It's gonna go up to 12.69 meters. It's like, uh, the height of a cosmic fart. It's gonna go up like a rocket, Morty! It's gonna go up to 12.69 meters. It's like, uh, the height of a cosmic fart. It's gonna go up like a rocket, Morty! It's gonna go up to 12.69 meters. It's like, uh, the height of a cosmic fart. It's gonna go up like a rocket, Morty!\"}]"
      ]
     },
     "execution_count": 14,
     "metadata": {},
     "output_type": "execute_result"
    }
   ],
   "source": [
    "question = \"A ball is thrown vertically upward with an initial speed of 12 m/s. What is its maximum height?\"\n",
    "prompt = [{\"role\": \"user\", \"content\": question}]\n",
    "pipeline(prompt, max_new_tokens=400)[0][\"generated_text\"]"
   ]
  }
 ],
 "metadata": {
  "kernelspec": {
   "display_name": "trl",
   "language": "python",
   "name": "python3"
  },
  "language_info": {
   "codemirror_mode": {
    "name": "ipython",
    "version": 3
   },
   "file_extension": ".py",
   "mimetype": "text/x-python",
   "name": "python",
   "nbconvert_exporter": "python",
   "pygments_lexer": "ipython3",
   "version": "3.12.9"
  }
 },
 "nbformat": 4,
 "nbformat_minor": 2
}
